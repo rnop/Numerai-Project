{
 "cells": [
  {
   "cell_type": "markdown",
   "id": "d74df59f-a3bb-46d9-8928-a9553bcbac06",
   "metadata": {},
   "source": [
    "## Tutorial - Experiment Tracking Using MLFlow on Numerai Dataset\n",
    "\n",
    "This notebook serves as an example on how to:\n",
    "- Train an XGBoost regressor\n",
    "- Perform hyperparameter tuning using HyperOpt\n",
    "- Track and log experiments (model parameters, metrics, and artifacts) using MLFlow"
   ]
  },
  {
   "cell_type": "markdown",
   "id": "dc6fde7a-446f-47ed-81c2-6eb78347013e",
   "metadata": {},
   "source": [
    "### Libraries"
   ]
  },
  {
   "cell_type": "code",
   "execution_count": null,
   "id": "3f2fe029-8e17-4fb3-9186-32909184b471",
   "metadata": {},
   "outputs": [],
   "source": [
    "!pip install xgboost==1.7.5 mlflow hyperopt numerapi;"
   ]
  },
  {
   "cell_type": "code",
   "execution_count": 2,
   "id": "ad9b1a06-e5ea-4e40-80d5-f35c611d54c3",
   "metadata": {},
   "outputs": [],
   "source": [
    "import numpy as np\n",
    "import pandas as pd\n",
    "from time import time\n",
    "import pprint\n",
    "import joblib\n",
    "\n",
    "from numerapi import NumerAPI\n",
    "napi = NumerAPI()\n",
    "\n",
    "import warnings\n",
    "warnings.filterwarnings(\"ignore\")"
   ]
  },
  {
   "cell_type": "code",
   "execution_count": null,
   "id": "025b6815-0edc-4605-a0de-34278dfd6ed7",
   "metadata": {},
   "outputs": [],
   "source": [
    "# # Download datasets\n",
    "# napi.download_dataset(\"v4.2/features.json\", \"datasets/features.json\")\n",
    "# napi.download_dataset(\"v4.2/train_int8.parquet\", \"datasets/train_int8.parquet)"
   ]
  },
  {
   "cell_type": "markdown",
   "id": "523998e3-ed5d-40bb-9382-aac0a7a2f1cb",
   "metadata": {},
   "source": [
    "### Training Features"
   ]
  },
  {
   "cell_type": "code",
   "execution_count": 3,
   "id": "2a90b98f-c324-44c5-acd3-cec456c2ffd6",
   "metadata": {},
   "outputs": [
    {
     "name": "stdout",
     "output_type": "stream",
     "text": [
      "# of training features: 2132\n"
     ]
    }
   ],
   "source": [
    "import json\n",
    "\n",
    "feature_metadata = json.load(open(\"datasets/features.json\"))\n",
    "feature_sets = feature_metadata[\"feature_sets\"]\n",
    "\n",
    "feature_set_list = [\"all\"]\n",
    "train_features = [feature for condition in feature_set_list for feature in feature_sets[condition]]\n",
    "\n",
    "train_features = set(train_features)\n",
    "print(\"# of training features:\", len(train_features))"
   ]
  },
  {
   "cell_type": "markdown",
   "id": "a9ba5d3e-d144-4f73-a9d3-515798631caa",
   "metadata": {},
   "source": [
    "### Training Data\n",
    "\n",
    "**Note**: We'll only be using a small subset of the training data for this notebook to speed-up training and save memory."
   ]
  },
  {
   "cell_type": "code",
   "execution_count": 4,
   "id": "355e9a9d-d98c-48dc-b5d8-ea2f9e0416d0",
   "metadata": {},
   "outputs": [
    {
     "name": "stdout",
     "output_type": "stream",
     "text": [
      "(2420521, 2191)\n"
     ]
    },
    {
     "data": {
      "text/html": [
       "<div>\n",
       "<style scoped>\n",
       "    .dataframe tbody tr th:only-of-type {\n",
       "        vertical-align: middle;\n",
       "    }\n",
       "\n",
       "    .dataframe tbody tr th {\n",
       "        vertical-align: top;\n",
       "    }\n",
       "\n",
       "    .dataframe thead th {\n",
       "        text-align: right;\n",
       "    }\n",
       "</style>\n",
       "<table border=\"1\" class=\"dataframe\">\n",
       "  <thead>\n",
       "    <tr style=\"text-align: right;\">\n",
       "      <th></th>\n",
       "      <th>era</th>\n",
       "      <th>data_type</th>\n",
       "      <th>feature_honoured_observational_balaamite</th>\n",
       "      <th>feature_polaroid_vadose_quinze</th>\n",
       "      <th>feature_untidy_withdrawn_bargeman</th>\n",
       "      <th>feature_genuine_kyphotic_trehala</th>\n",
       "      <th>feature_unenthralled_sportful_schoolhouse</th>\n",
       "      <th>feature_divulsive_explanatory_ideologue</th>\n",
       "      <th>feature_ichthyotic_roofed_yeshiva</th>\n",
       "      <th>feature_waggly_outlandish_carbonisation</th>\n",
       "      <th>...</th>\n",
       "      <th>target_jeremy_v4_20</th>\n",
       "      <th>target_jeremy_v4_60</th>\n",
       "      <th>target_teager_v4_20</th>\n",
       "      <th>target_teager_v4_60</th>\n",
       "      <th>target_agnes_v4_20</th>\n",
       "      <th>target_agnes_v4_60</th>\n",
       "      <th>target_claudia_v4_20</th>\n",
       "      <th>target_claudia_v4_60</th>\n",
       "      <th>target_rowan_v4_20</th>\n",
       "      <th>target_rowan_v4_60</th>\n",
       "    </tr>\n",
       "    <tr>\n",
       "      <th>id</th>\n",
       "      <th></th>\n",
       "      <th></th>\n",
       "      <th></th>\n",
       "      <th></th>\n",
       "      <th></th>\n",
       "      <th></th>\n",
       "      <th></th>\n",
       "      <th></th>\n",
       "      <th></th>\n",
       "      <th></th>\n",
       "      <th></th>\n",
       "      <th></th>\n",
       "      <th></th>\n",
       "      <th></th>\n",
       "      <th></th>\n",
       "      <th></th>\n",
       "      <th></th>\n",
       "      <th></th>\n",
       "      <th></th>\n",
       "      <th></th>\n",
       "      <th></th>\n",
       "    </tr>\n",
       "  </thead>\n",
       "  <tbody>\n",
       "    <tr>\n",
       "      <th>n003bba8a98662e4</th>\n",
       "      <td>0001</td>\n",
       "      <td>train</td>\n",
       "      <td>4</td>\n",
       "      <td>2</td>\n",
       "      <td>4</td>\n",
       "      <td>4</td>\n",
       "      <td>0</td>\n",
       "      <td>0</td>\n",
       "      <td>4</td>\n",
       "      <td>4</td>\n",
       "      <td>...</td>\n",
       "      <td>0.25</td>\n",
       "      <td>0.25</td>\n",
       "      <td>0.50</td>\n",
       "      <td>0.75</td>\n",
       "      <td>0.25</td>\n",
       "      <td>0.00</td>\n",
       "      <td>0.50</td>\n",
       "      <td>0.50</td>\n",
       "      <td>0.50</td>\n",
       "      <td>0.75</td>\n",
       "    </tr>\n",
       "    <tr>\n",
       "      <th>n003bee128c2fcfc</th>\n",
       "      <td>0001</td>\n",
       "      <td>train</td>\n",
       "      <td>2</td>\n",
       "      <td>4</td>\n",
       "      <td>1</td>\n",
       "      <td>3</td>\n",
       "      <td>0</td>\n",
       "      <td>3</td>\n",
       "      <td>2</td>\n",
       "      <td>3</td>\n",
       "      <td>...</td>\n",
       "      <td>0.75</td>\n",
       "      <td>1.00</td>\n",
       "      <td>1.00</td>\n",
       "      <td>0.75</td>\n",
       "      <td>1.00</td>\n",
       "      <td>1.00</td>\n",
       "      <td>1.00</td>\n",
       "      <td>0.75</td>\n",
       "      <td>1.00</td>\n",
       "      <td>0.75</td>\n",
       "    </tr>\n",
       "    <tr>\n",
       "      <th>n0048ac83aff7194</th>\n",
       "      <td>0001</td>\n",
       "      <td>train</td>\n",
       "      <td>2</td>\n",
       "      <td>1</td>\n",
       "      <td>3</td>\n",
       "      <td>0</td>\n",
       "      <td>3</td>\n",
       "      <td>0</td>\n",
       "      <td>3</td>\n",
       "      <td>3</td>\n",
       "      <td>...</td>\n",
       "      <td>0.50</td>\n",
       "      <td>0.25</td>\n",
       "      <td>0.25</td>\n",
       "      <td>0.25</td>\n",
       "      <td>0.25</td>\n",
       "      <td>0.25</td>\n",
       "      <td>0.25</td>\n",
       "      <td>0.25</td>\n",
       "      <td>0.25</td>\n",
       "      <td>0.25</td>\n",
       "    </tr>\n",
       "    <tr>\n",
       "      <th>n00691bec80d3e02</th>\n",
       "      <td>0001</td>\n",
       "      <td>train</td>\n",
       "      <td>4</td>\n",
       "      <td>2</td>\n",
       "      <td>2</td>\n",
       "      <td>3</td>\n",
       "      <td>0</td>\n",
       "      <td>4</td>\n",
       "      <td>1</td>\n",
       "      <td>4</td>\n",
       "      <td>...</td>\n",
       "      <td>0.50</td>\n",
       "      <td>0.50</td>\n",
       "      <td>0.75</td>\n",
       "      <td>0.75</td>\n",
       "      <td>0.50</td>\n",
       "      <td>0.50</td>\n",
       "      <td>0.75</td>\n",
       "      <td>0.75</td>\n",
       "      <td>0.75</td>\n",
       "      <td>0.50</td>\n",
       "    </tr>\n",
       "    <tr>\n",
       "      <th>n00b8720a2fdc4f2</th>\n",
       "      <td>0001</td>\n",
       "      <td>train</td>\n",
       "      <td>4</td>\n",
       "      <td>3</td>\n",
       "      <td>4</td>\n",
       "      <td>4</td>\n",
       "      <td>0</td>\n",
       "      <td>0</td>\n",
       "      <td>4</td>\n",
       "      <td>2</td>\n",
       "      <td>...</td>\n",
       "      <td>0.50</td>\n",
       "      <td>0.50</td>\n",
       "      <td>0.50</td>\n",
       "      <td>0.50</td>\n",
       "      <td>0.50</td>\n",
       "      <td>0.50</td>\n",
       "      <td>0.50</td>\n",
       "      <td>0.50</td>\n",
       "      <td>0.50</td>\n",
       "      <td>0.50</td>\n",
       "    </tr>\n",
       "  </tbody>\n",
       "</table>\n",
       "<p>5 rows × 2191 columns</p>\n",
       "</div>"
      ],
      "text/plain": [
       "                   era data_type  feature_honoured_observational_balaamite  \\\n",
       "id                                                                           \n",
       "n003bba8a98662e4  0001     train                                         4   \n",
       "n003bee128c2fcfc  0001     train                                         2   \n",
       "n0048ac83aff7194  0001     train                                         2   \n",
       "n00691bec80d3e02  0001     train                                         4   \n",
       "n00b8720a2fdc4f2  0001     train                                         4   \n",
       "\n",
       "                  feature_polaroid_vadose_quinze  \\\n",
       "id                                                 \n",
       "n003bba8a98662e4                               2   \n",
       "n003bee128c2fcfc                               4   \n",
       "n0048ac83aff7194                               1   \n",
       "n00691bec80d3e02                               2   \n",
       "n00b8720a2fdc4f2                               3   \n",
       "\n",
       "                  feature_untidy_withdrawn_bargeman  \\\n",
       "id                                                    \n",
       "n003bba8a98662e4                                  4   \n",
       "n003bee128c2fcfc                                  1   \n",
       "n0048ac83aff7194                                  3   \n",
       "n00691bec80d3e02                                  2   \n",
       "n00b8720a2fdc4f2                                  4   \n",
       "\n",
       "                  feature_genuine_kyphotic_trehala  \\\n",
       "id                                                   \n",
       "n003bba8a98662e4                                 4   \n",
       "n003bee128c2fcfc                                 3   \n",
       "n0048ac83aff7194                                 0   \n",
       "n00691bec80d3e02                                 3   \n",
       "n00b8720a2fdc4f2                                 4   \n",
       "\n",
       "                  feature_unenthralled_sportful_schoolhouse  \\\n",
       "id                                                            \n",
       "n003bba8a98662e4                                          0   \n",
       "n003bee128c2fcfc                                          0   \n",
       "n0048ac83aff7194                                          3   \n",
       "n00691bec80d3e02                                          0   \n",
       "n00b8720a2fdc4f2                                          0   \n",
       "\n",
       "                  feature_divulsive_explanatory_ideologue  \\\n",
       "id                                                          \n",
       "n003bba8a98662e4                                        0   \n",
       "n003bee128c2fcfc                                        3   \n",
       "n0048ac83aff7194                                        0   \n",
       "n00691bec80d3e02                                        4   \n",
       "n00b8720a2fdc4f2                                        0   \n",
       "\n",
       "                  feature_ichthyotic_roofed_yeshiva  \\\n",
       "id                                                    \n",
       "n003bba8a98662e4                                  4   \n",
       "n003bee128c2fcfc                                  2   \n",
       "n0048ac83aff7194                                  3   \n",
       "n00691bec80d3e02                                  1   \n",
       "n00b8720a2fdc4f2                                  4   \n",
       "\n",
       "                  feature_waggly_outlandish_carbonisation  ...  \\\n",
       "id                                                         ...   \n",
       "n003bba8a98662e4                                        4  ...   \n",
       "n003bee128c2fcfc                                        3  ...   \n",
       "n0048ac83aff7194                                        3  ...   \n",
       "n00691bec80d3e02                                        4  ...   \n",
       "n00b8720a2fdc4f2                                        2  ...   \n",
       "\n",
       "                  target_jeremy_v4_20  target_jeremy_v4_60  \\\n",
       "id                                                           \n",
       "n003bba8a98662e4                 0.25                 0.25   \n",
       "n003bee128c2fcfc                 0.75                 1.00   \n",
       "n0048ac83aff7194                 0.50                 0.25   \n",
       "n00691bec80d3e02                 0.50                 0.50   \n",
       "n00b8720a2fdc4f2                 0.50                 0.50   \n",
       "\n",
       "                  target_teager_v4_20  target_teager_v4_60  \\\n",
       "id                                                           \n",
       "n003bba8a98662e4                 0.50                 0.75   \n",
       "n003bee128c2fcfc                 1.00                 0.75   \n",
       "n0048ac83aff7194                 0.25                 0.25   \n",
       "n00691bec80d3e02                 0.75                 0.75   \n",
       "n00b8720a2fdc4f2                 0.50                 0.50   \n",
       "\n",
       "                  target_agnes_v4_20  target_agnes_v4_60  \\\n",
       "id                                                         \n",
       "n003bba8a98662e4                0.25                0.00   \n",
       "n003bee128c2fcfc                1.00                1.00   \n",
       "n0048ac83aff7194                0.25                0.25   \n",
       "n00691bec80d3e02                0.50                0.50   \n",
       "n00b8720a2fdc4f2                0.50                0.50   \n",
       "\n",
       "                  target_claudia_v4_20  target_claudia_v4_60  \\\n",
       "id                                                             \n",
       "n003bba8a98662e4                  0.50                  0.50   \n",
       "n003bee128c2fcfc                  1.00                  0.75   \n",
       "n0048ac83aff7194                  0.25                  0.25   \n",
       "n00691bec80d3e02                  0.75                  0.75   \n",
       "n00b8720a2fdc4f2                  0.50                  0.50   \n",
       "\n",
       "                  target_rowan_v4_20  target_rowan_v4_60  \n",
       "id                                                        \n",
       "n003bba8a98662e4                0.50                0.75  \n",
       "n003bee128c2fcfc                1.00                0.75  \n",
       "n0048ac83aff7194                0.25                0.25  \n",
       "n00691bec80d3e02                0.75                0.50  \n",
       "n00b8720a2fdc4f2                0.50                0.50  \n",
       "\n",
       "[5 rows x 2191 columns]"
      ]
     },
     "execution_count": 4,
     "metadata": {},
     "output_type": "execute_result"
    }
   ],
   "source": [
    "train_df = pd.read_parquet(\"datasets/train_int8.parquet\")\n",
    "print(train_df.shape)\n",
    "train_df.head()"
   ]
  },
  {
   "cell_type": "markdown",
   "id": "0ed73ece-441e-425e-9812-3f44a54d7c26",
   "metadata": {},
   "source": [
    "#### Quick Pre-Processing"
   ]
  },
  {
   "cell_type": "code",
   "execution_count": 5,
   "id": "27386f63-fb3d-445d-921c-98e28d3f930e",
   "metadata": {},
   "outputs": [
    {
     "name": "stdout",
     "output_type": "stream",
     "text": [
      "(423864, 2191)\n"
     ]
    }
   ],
   "source": [
    "# Sample every other era\n",
    "train_df = train_df[train_df[\"era\"].isin(train_df[\"era\"].unique()[::2])]\n",
    "train_df['era'] = train_df['era'].astype(int)\n",
    "\n",
    "# Remove targets == 0.50\n",
    "target_mask = train_df['target'] != 0.50\n",
    "train_df = train_df[target_mask]\n",
    "\n",
    "# Keep eras >= 201\n",
    "era201_mask = train_df['era'] >= 201\n",
    "train_df = train_df[era201_mask]\n",
    "\n",
    "print(train_df.shape)"
   ]
  },
  {
   "cell_type": "code",
   "execution_count": 6,
   "id": "42d46120-ce69-4c28-9596-0694f83460e5",
   "metadata": {},
   "outputs": [],
   "source": [
    "era_cutoff = 500\n",
    "train_df_pre_cutoff = train_df[train_df['era'] < era_cutoff]\n",
    "train_df_post_cutoff = train_df[train_df['era'] >= era_cutoff]"
   ]
  },
  {
   "cell_type": "markdown",
   "id": "bbb1589f-34e6-453b-858f-88c48dcf84af",
   "metadata": {},
   "source": [
    "### Numerai Correlation\n",
    "- We'll use MLFlow to track models with the highest Numerai correlation (primary tournament metric)"
   ]
  },
  {
   "cell_type": "code",
   "execution_count": 7,
   "id": "c8ea9055-f23f-41d3-815a-a12d4a54218d",
   "metadata": {},
   "outputs": [],
   "source": [
    "from scipy import stats\n",
    "import numpy as np\n",
    "\n",
    "def numerai_corr(preds, target):\n",
    "    ranked_preds = (preds.rank(method=\"average\").values - 0.5) / preds.count()\n",
    "    gauss_ranked_preds = stats.norm.ppf(ranked_preds)\n",
    "    centered_target = target - target.mean()\n",
    "    preds_p15 = np.sign(gauss_ranked_preds) * np.abs(gauss_ranked_preds) ** 1.5\n",
    "    target_p15 = np.sign(centered_target) * np.abs(centered_target) ** 1.5\n",
    "    return np.corrcoef(preds_p15, target_p15)[0, 1]"
   ]
  },
  {
   "cell_type": "code",
   "execution_count": 8,
   "id": "67643eff-e23f-4ba0-a35f-7dc31cb4eb84",
   "metadata": {},
   "outputs": [
    {
     "data": {
      "text/html": [
       "<div>\n",
       "<style scoped>\n",
       "    .dataframe tbody tr th:only-of-type {\n",
       "        vertical-align: middle;\n",
       "    }\n",
       "\n",
       "    .dataframe tbody tr th {\n",
       "        vertical-align: top;\n",
       "    }\n",
       "\n",
       "    .dataframe thead th {\n",
       "        text-align: right;\n",
       "    }\n",
       "</style>\n",
       "<table border=\"1\" class=\"dataframe\">\n",
       "  <thead>\n",
       "    <tr style=\"text-align: right;\">\n",
       "      <th></th>\n",
       "      <th>era</th>\n",
       "      <th>target_cyrus_v4_20</th>\n",
       "    </tr>\n",
       "    <tr>\n",
       "      <th>id</th>\n",
       "      <th></th>\n",
       "      <th></th>\n",
       "    </tr>\n",
       "  </thead>\n",
       "  <tbody>\n",
       "    <tr>\n",
       "      <th>n0013d17441d91b3</th>\n",
       "      <td>501</td>\n",
       "      <td>0.00</td>\n",
       "    </tr>\n",
       "    <tr>\n",
       "      <th>n0022c46b7b17b49</th>\n",
       "      <td>501</td>\n",
       "      <td>0.25</td>\n",
       "    </tr>\n",
       "    <tr>\n",
       "      <th>n004dd2c9bbe12d5</th>\n",
       "      <td>501</td>\n",
       "      <td>0.75</td>\n",
       "    </tr>\n",
       "  </tbody>\n",
       "</table>\n",
       "</div>"
      ],
      "text/plain": [
       "                  era  target_cyrus_v4_20\n",
       "id                                       \n",
       "n0013d17441d91b3  501                0.00\n",
       "n0022c46b7b17b49  501                0.25\n",
       "n004dd2c9bbe12d5  501                0.75"
      ]
     },
     "execution_count": 8,
     "metadata": {},
     "output_type": "execute_result"
    }
   ],
   "source": [
    "# Create prediction DataFrame \n",
    "prediction_df = train_df_post_cutoff[['era', 'target_cyrus_v4_20']]\n",
    "prediction_df.head(3)"
   ]
  },
  {
   "cell_type": "markdown",
   "id": "cb470ac7-4017-42f6-8b12-a8865dec3151",
   "metadata": {},
   "source": [
    "### XGBoost Training + HyperOpt + MLFlow"
   ]
  },
  {
   "cell_type": "code",
   "execution_count": 9,
   "id": "c04b21ec-f2c4-4902-b2e7-31d2c43e39b3",
   "metadata": {},
   "outputs": [],
   "source": [
    "!rm -rf mlruns # delete mlruns folder if needed"
   ]
  },
  {
   "cell_type": "code",
   "execution_count": 10,
   "id": "a53a3fe6-32fe-484c-9149-16a5d44c22c6",
   "metadata": {},
   "outputs": [
    {
     "data": {
      "text/plain": [
       "<Experiment: artifact_location='file:///notebooks/MLFlow%20Test/mlruns/426164893399017906', creation_time=1701288974927, experiment_id='426164893399017906', last_update_time=1701288974927, lifecycle_stage='active', name='numerai_test_run_0', tags={}>"
      ]
     },
     "execution_count": 10,
     "metadata": {},
     "output_type": "execute_result"
    }
   ],
   "source": [
    "import xgboost as xgb\n",
    "from hyperopt import hp, fmin, tpe, STATUS_OK, Trials\n",
    "from sklearn.metrics import mean_squared_error\n",
    "import mlflow\n",
    "import mlflow.xgboost\n",
    "\n",
    "# Set an experiment name (need to use later to track results)\n",
    "experiment_name = \"numerai_test_run_0\"\n",
    "mlflow.create_experiment(experiment_name)\n",
    "mlflow.set_experiment(experiment_name)"
   ]
  },
  {
   "cell_type": "markdown",
   "id": "706ee64c-0209-43c1-be88-a238f9569bdd",
   "metadata": {},
   "source": [
    "#### Setup Hyperparameter Search Space for HyperOpt\n",
    "- can add/remove hyperparameters as needed"
   ]
  },
  {
   "cell_type": "code",
   "execution_count": 11,
   "id": "21f5e6b7-c4b6-4b7f-b74b-532fa1d7045c",
   "metadata": {},
   "outputs": [],
   "source": [
    "space = {\n",
    "    'max_depth': hp.quniform('max_depth', 3, 7, 1),\n",
    "    'learning_rate': hp.uniform('learning_rate', 0.005, 0.02),\n",
    "    'n_estimators': hp.quniform('n_estimators', 100, 1000, 1),\n",
    "    'subsample': hp.uniform('subsample', 0.7, 1),\n",
    "    'colsample_bytree': hp.uniform('colsample_bytree', 0.7, 1)\n",
    "}\n",
    "\n",
    "def objective(space):\n",
    "    # Start MLFlow\n",
    "    with mlflow.start_run():\n",
    "        mlflow.set_tag(\"model\", \"xgboost\")\n",
    "        mlflow.log_params(space)\n",
    "\n",
    "        model = xgb.XGBRegressor(\n",
    "            max_depth=int(space['max_depth']),\n",
    "            learning_rate=space['learning_rate'],\n",
    "            n_estimators=int(space['n_estimators']),\n",
    "            subsample=space['subsample'],\n",
    "            colsample_bytree=space['colsample_bytree'],\n",
    "            tree_method='gpu_hist'\n",
    "        )\n",
    "        \n",
    "        ### IMPORTANT SET UP TARGET AND TRAINING FEATURES ###\n",
    "        target = 'target_cyrus_v4_20'\n",
    "        train_features = train_features\n",
    "        \n",
    "        # train on pre-cutoff data\n",
    "        model.fit(train_df_pre_cutoff[train_features], train_df_pre_cutoff[target])\n",
    "        \n",
    "        # predict and evaluate post-cutoff data\n",
    "        prediction_df['prediction'] = model.predict(train_df_post_cutoff[train_features])\n",
    "        mse = mean_squared_error(train_df_post_cutoff[target], prediction_df['prediction'])\n",
    "        corr = numerai_corr(prediction_df['prediction'], train_df_post_cutoff[target])\n",
    "\n",
    "        mlflow.log_metric(\"mse\", mse)\n",
    "        mlflow.log_metric(\"numerai_corr\", corr)\n",
    "\n",
    "    return {'loss': mse, 'corr': corr, 'status': STATUS_OK}"
   ]
  },
  {
   "cell_type": "markdown",
   "id": "6f7ebbe4-65ee-41f7-976b-53ea02c4f7e8",
   "metadata": {},
   "source": [
    "#### Begin training with HyperOpt + experiment tracking with MLFlow"
   ]
  },
  {
   "cell_type": "code",
   "execution_count": 12,
   "id": "ad351466-aadc-46ac-8561-2675f1fdb1fa",
   "metadata": {},
   "outputs": [
    {
     "name": "stdout",
     "output_type": "stream",
     "text": [
      "  0%|          | 0/20 [00:00<?, ?trial/s, best loss=?]"
     ]
    },
    {
     "name": "stderr",
     "output_type": "stream",
     "text": [
      "2023-11-29 20:16:14,951 INFO hyperopt.tpe: build_posterior_wrapper took 0.001969 seconds\n",
      "2023-11-29 20:16:14,952 INFO hyperopt.tpe: TPE using 0 trials\n"
     ]
    },
    {
     "name": "stdout",
     "output_type": "stream",
     "text": [
      "  5%|▌         | 1/20 [01:15<23:50, 75.28s/trial, best loss: 0.09917254745960236]"
     ]
    },
    {
     "name": "stderr",
     "output_type": "stream",
     "text": [
      "2023-11-29 20:17:30,230 INFO hyperopt.tpe: build_posterior_wrapper took 0.000981 seconds\n",
      "2023-11-29 20:17:30,231 INFO hyperopt.tpe: TPE using 1/1 trials with best loss 0.099173\n"
     ]
    },
    {
     "name": "stdout",
     "output_type": "stream",
     "text": [
      " 10%|█         | 2/20 [02:40<24:21, 81.21s/trial, best loss: 0.09917254745960236]"
     ]
    },
    {
     "name": "stderr",
     "output_type": "stream",
     "text": [
      "2023-11-29 20:18:55,599 INFO hyperopt.tpe: build_posterior_wrapper took 0.001200 seconds\n",
      "2023-11-29 20:18:55,600 INFO hyperopt.tpe: TPE using 2/2 trials with best loss 0.099173\n"
     ]
    },
    {
     "name": "stdout",
     "output_type": "stream",
     "text": [
      " 15%|█▌        | 3/20 [03:40<20:16, 71.57s/trial, best loss: 0.09914801269769669]"
     ]
    },
    {
     "name": "stderr",
     "output_type": "stream",
     "text": [
      "2023-11-29 20:19:55,695 INFO hyperopt.tpe: build_posterior_wrapper took 0.001026 seconds\n",
      "2023-11-29 20:19:55,695 INFO hyperopt.tpe: TPE using 3/3 trials with best loss 0.099148\n"
     ]
    },
    {
     "name": "stdout",
     "output_type": "stream",
     "text": [
      " 20%|██        | 4/20 [04:26<16:19, 61.25s/trial, best loss: 0.09914801269769669]"
     ]
    },
    {
     "name": "stderr",
     "output_type": "stream",
     "text": [
      "2023-11-29 20:20:41,112 INFO hyperopt.tpe: build_posterior_wrapper took 0.001049 seconds\n",
      "2023-11-29 20:20:41,113 INFO hyperopt.tpe: TPE using 4/4 trials with best loss 0.099148\n"
     ]
    },
    {
     "name": "stdout",
     "output_type": "stream",
     "text": [
      " 25%|██▌       | 5/20 [04:53<12:13, 48.88s/trial, best loss: 0.09914801269769669]"
     ]
    },
    {
     "name": "stderr",
     "output_type": "stream",
     "text": [
      "2023-11-29 20:21:08,078 INFO hyperopt.tpe: build_posterior_wrapper took 0.001096 seconds\n",
      "2023-11-29 20:21:08,079 INFO hyperopt.tpe: TPE using 5/5 trials with best loss 0.099148\n"
     ]
    },
    {
     "name": "stdout",
     "output_type": "stream",
     "text": [
      " 30%|███       | 6/20 [05:45<11:40, 50.05s/trial, best loss: 0.09914801269769669]"
     ]
    },
    {
     "name": "stderr",
     "output_type": "stream",
     "text": [
      "2023-11-29 20:22:00,388 INFO hyperopt.tpe: build_posterior_wrapper took 0.003616 seconds\n",
      "2023-11-29 20:22:00,388 INFO hyperopt.tpe: TPE using 6/6 trials with best loss 0.099148\n"
     ]
    },
    {
     "name": "stdout",
     "output_type": "stream",
     "text": [
      " 35%|███▌      | 7/20 [06:14<09:23, 43.33s/trial, best loss: 0.09914801269769669]"
     ]
    },
    {
     "name": "stderr",
     "output_type": "stream",
     "text": [
      "2023-11-29 20:22:29,869 INFO hyperopt.tpe: build_posterior_wrapper took 0.001038 seconds\n",
      "2023-11-29 20:22:29,869 INFO hyperopt.tpe: TPE using 7/7 trials with best loss 0.099148\n"
     ]
    },
    {
     "name": "stdout",
     "output_type": "stream",
     "text": [
      " 40%|████      | 8/20 [06:56<08:33, 42.76s/trial, best loss: 0.09914801269769669]"
     ]
    },
    {
     "name": "stderr",
     "output_type": "stream",
     "text": [
      "2023-11-29 20:23:11,424 INFO hyperopt.tpe: build_posterior_wrapper took 0.001090 seconds\n",
      "2023-11-29 20:23:11,426 INFO hyperopt.tpe: TPE using 8/8 trials with best loss 0.099148\n"
     ]
    },
    {
     "name": "stdout",
     "output_type": "stream",
     "text": [
      " 45%|████▌     | 9/20 [08:34<10:59, 59.96s/trial, best loss: 0.09914801269769669]"
     ]
    },
    {
     "name": "stderr",
     "output_type": "stream",
     "text": [
      "2023-11-29 20:24:49,215 INFO hyperopt.tpe: build_posterior_wrapper took 0.001118 seconds\n",
      "2023-11-29 20:24:49,215 INFO hyperopt.tpe: TPE using 9/9 trials with best loss 0.099148\n"
     ]
    },
    {
     "name": "stdout",
     "output_type": "stream",
     "text": [
      " 50%|█████     | 10/20 [09:05<08:32, 51.20s/trial, best loss: 0.09914801269769669]"
     ]
    },
    {
     "name": "stderr",
     "output_type": "stream",
     "text": [
      "2023-11-29 20:25:20,801 INFO hyperopt.tpe: build_posterior_wrapper took 0.003005 seconds\n",
      "2023-11-29 20:25:20,801 INFO hyperopt.tpe: TPE using 10/10 trials with best loss 0.099148\n"
     ]
    },
    {
     "name": "stdout",
     "output_type": "stream",
     "text": [
      " 55%|█████▌    | 11/20 [10:11<08:21, 55.70s/trial, best loss: 0.09914801269769669]"
     ]
    },
    {
     "name": "stderr",
     "output_type": "stream",
     "text": [
      "2023-11-29 20:26:26,692 INFO hyperopt.tpe: build_posterior_wrapper took 0.001004 seconds\n",
      "2023-11-29 20:26:26,692 INFO hyperopt.tpe: TPE using 11/11 trials with best loss 0.099148\n"
     ]
    },
    {
     "name": "stdout",
     "output_type": "stream",
     "text": [
      " 60%|██████    | 12/20 [11:29<08:18, 62.29s/trial, best loss: 0.09914801269769669]"
     ]
    },
    {
     "name": "stderr",
     "output_type": "stream",
     "text": [
      "2023-11-29 20:27:44,063 INFO hyperopt.tpe: build_posterior_wrapper took 0.001171 seconds\n",
      "2023-11-29 20:27:44,063 INFO hyperopt.tpe: TPE using 12/12 trials with best loss 0.099148\n"
     ]
    },
    {
     "name": "stdout",
     "output_type": "stream",
     "text": [
      " 65%|██████▌   | 13/20 [12:46<07:48, 66.99s/trial, best loss: 0.09912297129631042]"
     ]
    },
    {
     "name": "stderr",
     "output_type": "stream",
     "text": [
      "2023-11-29 20:29:01,854 INFO hyperopt.tpe: build_posterior_wrapper took 0.001029 seconds\n",
      "2023-11-29 20:29:01,855 INFO hyperopt.tpe: TPE using 13/13 trials with best loss 0.099123\n"
     ]
    },
    {
     "name": "stdout",
     "output_type": "stream",
     "text": [
      " 70%|███████   | 14/20 [14:31<07:49, 78.26s/trial, best loss: 0.09911134093999863]"
     ]
    },
    {
     "name": "stderr",
     "output_type": "stream",
     "text": [
      "2023-11-29 20:30:46,172 INFO hyperopt.tpe: build_posterior_wrapper took 0.001065 seconds\n",
      "2023-11-29 20:30:46,172 INFO hyperopt.tpe: TPE using 14/14 trials with best loss 0.099111\n"
     ]
    },
    {
     "name": "stdout",
     "output_type": "stream",
     "text": [
      " 75%|███████▌  | 15/20 [15:17<05:43, 68.76s/trial, best loss: 0.09911134093999863]"
     ]
    },
    {
     "name": "stderr",
     "output_type": "stream",
     "text": [
      "2023-11-29 20:31:32,904 INFO hyperopt.tpe: build_posterior_wrapper took 0.001031 seconds\n",
      "2023-11-29 20:31:32,904 INFO hyperopt.tpe: TPE using 15/15 trials with best loss 0.099111\n"
     ]
    },
    {
     "name": "stdout",
     "output_type": "stream",
     "text": [
      " 80%|████████  | 16/20 [16:44<04:56, 74.07s/trial, best loss: 0.0991022139787674] "
     ]
    },
    {
     "name": "stderr",
     "output_type": "stream",
     "text": [
      "2023-11-29 20:32:59,305 INFO hyperopt.tpe: build_posterior_wrapper took 0.001118 seconds\n",
      "2023-11-29 20:32:59,306 INFO hyperopt.tpe: TPE using 16/16 trials with best loss 0.099102\n"
     ]
    },
    {
     "name": "stdout",
     "output_type": "stream",
     "text": [
      " 85%|████████▌ | 17/20 [17:31<03:18, 66.11s/trial, best loss: 0.0991022139787674]"
     ]
    },
    {
     "name": "stderr",
     "output_type": "stream",
     "text": [
      "2023-11-29 20:33:46,920 INFO hyperopt.tpe: build_posterior_wrapper took 0.001023 seconds\n",
      "2023-11-29 20:33:46,921 INFO hyperopt.tpe: TPE using 17/17 trials with best loss 0.099102\n"
     ]
    },
    {
     "name": "stdout",
     "output_type": "stream",
     "text": [
      " 90%|█████████ | 18/20 [18:39<02:12, 66.43s/trial, best loss: 0.0991022139787674]"
     ]
    },
    {
     "name": "stderr",
     "output_type": "stream",
     "text": [
      "2023-11-29 20:34:54,094 INFO hyperopt.tpe: build_posterior_wrapper took 0.001032 seconds\n",
      "2023-11-29 20:34:54,095 INFO hyperopt.tpe: TPE using 18/18 trials with best loss 0.099102\n"
     ]
    },
    {
     "name": "stdout",
     "output_type": "stream",
     "text": [
      " 95%|█████████▌| 19/20 [19:39<01:04, 64.62s/trial, best loss: 0.0991022139787674]"
     ]
    },
    {
     "name": "stderr",
     "output_type": "stream",
     "text": [
      "2023-11-29 20:35:54,488 INFO hyperopt.tpe: build_posterior_wrapper took 0.001308 seconds\n",
      "2023-11-29 20:35:54,488 INFO hyperopt.tpe: TPE using 19/19 trials with best loss 0.099102\n"
     ]
    },
    {
     "name": "stdout",
     "output_type": "stream",
     "text": [
      "100%|██████████| 20/20 [20:11<00:00, 60.56s/trial, best loss: 0.0991022139787674]\n"
     ]
    }
   ],
   "source": [
    "trials = Trials()\n",
    "best_hyperparams = fmin(fn=objective,\n",
    "                        space=space,\n",
    "                        algo=tpe.suggest,\n",
    "                        max_evals= 20,\n",
    "                        trials=trials)"
   ]
  },
  {
   "cell_type": "markdown",
   "id": "b440a377-938e-405d-aea5-53fc393814ad",
   "metadata": {},
   "source": [
    "#### Once training is complete, we can search the current (or previous) experiments"
   ]
  },
  {
   "cell_type": "code",
   "execution_count": 13,
   "id": "e129025a-3a54-44c1-98c4-2272dc251661",
   "metadata": {},
   "outputs": [
    {
     "data": {
      "text/plain": [
       "[<Experiment: artifact_location='file:///notebooks/MLFlow%20Test/mlruns/426164893399017906', creation_time=1701288974927, experiment_id='426164893399017906', last_update_time=1701288974927, lifecycle_stage='active', name='numerai_test_run_0', tags={}>,\n",
       " <Experiment: artifact_location='file:///notebooks/MLFlow%20Test/mlruns/0', creation_time=1701288974918, experiment_id='0', last_update_time=1701288974918, lifecycle_stage='active', name='Default', tags={}>]"
      ]
     },
     "execution_count": 13,
     "metadata": {},
     "output_type": "execute_result"
    }
   ],
   "source": [
    "# Search experiments\n",
    "mlflow.search_experiments()"
   ]
  },
  {
   "cell_type": "markdown",
   "id": "d398b57a-17e2-4dc6-9ecf-082d094161b0",
   "metadata": {},
   "source": [
    "#### Obtain the model results from an experiment and sort the models by highest Numerai correlation along with their hyperparameters"
   ]
  },
  {
   "cell_type": "code",
   "execution_count": 15,
   "id": "9a409715-5079-4c1b-919a-cdf2994979aa",
   "metadata": {},
   "outputs": [
    {
     "data": {
      "text/html": [
       "<div>\n",
       "<style scoped>\n",
       "    .dataframe tbody tr th:only-of-type {\n",
       "        vertical-align: middle;\n",
       "    }\n",
       "\n",
       "    .dataframe tbody tr th {\n",
       "        vertical-align: top;\n",
       "    }\n",
       "\n",
       "    .dataframe thead th {\n",
       "        text-align: right;\n",
       "    }\n",
       "</style>\n",
       "<table border=\"1\" class=\"dataframe\">\n",
       "  <thead>\n",
       "    <tr style=\"text-align: right;\">\n",
       "      <th></th>\n",
       "      <th>run_id</th>\n",
       "      <th>metrics.mse</th>\n",
       "      <th>metrics.numerai_corr</th>\n",
       "      <th>params.learning_rate</th>\n",
       "      <th>params.colsample_bytree</th>\n",
       "      <th>params.max_depth</th>\n",
       "      <th>params.n_estimators</th>\n",
       "      <th>params.subsample</th>\n",
       "    </tr>\n",
       "  </thead>\n",
       "  <tbody>\n",
       "    <tr>\n",
       "      <th>11</th>\n",
       "      <td>7386b3eeac5943a99a2eb12c3ca6b7ca</td>\n",
       "      <td>0.099219</td>\n",
       "      <td>0.055340</td>\n",
       "      <td>0.018260219684644526</td>\n",
       "      <td>0.839006526386211</td>\n",
       "      <td>6.0</td>\n",
       "      <td>979.0</td>\n",
       "      <td>0.9981472462749852</td>\n",
       "    </tr>\n",
       "    <tr>\n",
       "      <th>6</th>\n",
       "      <td>d6a82a07c95b4f3c9d6146b220f44d6e</td>\n",
       "      <td>0.099111</td>\n",
       "      <td>0.054204</td>\n",
       "      <td>0.009013340339119909</td>\n",
       "      <td>0.8271417410062577</td>\n",
       "      <td>7.0</td>\n",
       "      <td>877.0</td>\n",
       "      <td>0.932797232868126</td>\n",
       "    </tr>\n",
       "    <tr>\n",
       "      <th>4</th>\n",
       "      <td>2c9496f25d2740cc8498b39b7cbc5fd8</td>\n",
       "      <td>0.099102</td>\n",
       "      <td>0.053856</td>\n",
       "      <td>0.010937623355520456</td>\n",
       "      <td>0.8976333077003177</td>\n",
       "      <td>6.0</td>\n",
       "      <td>819.0</td>\n",
       "      <td>0.7619005618077431</td>\n",
       "    </tr>\n",
       "    <tr>\n",
       "      <th>7</th>\n",
       "      <td>f1d3468e76c947588916d38375aeba7f</td>\n",
       "      <td>0.099123</td>\n",
       "      <td>0.052449</td>\n",
       "      <td>0.009630694692421275</td>\n",
       "      <td>0.8878067036822037</td>\n",
       "      <td>5.0</td>\n",
       "      <td>846.0</td>\n",
       "      <td>0.7701944350058726</td>\n",
       "    </tr>\n",
       "    <tr>\n",
       "      <th>9</th>\n",
       "      <td>79cec66dee70430ab776f4fe067b4f24</td>\n",
       "      <td>0.099149</td>\n",
       "      <td>0.051720</td>\n",
       "      <td>0.007761588801141417</td>\n",
       "      <td>0.8055985236893589</td>\n",
       "      <td>5.0</td>\n",
       "      <td>691.0</td>\n",
       "      <td>0.7937204861797146</td>\n",
       "    </tr>\n",
       "    <tr>\n",
       "      <th>17</th>\n",
       "      <td>f5dd17fe7e724bfd9717460db10ebb21</td>\n",
       "      <td>0.099148</td>\n",
       "      <td>0.051633</td>\n",
       "      <td>0.01935716286424518</td>\n",
       "      <td>0.7243890839103431</td>\n",
       "      <td>6.0</td>\n",
       "      <td>550.0</td>\n",
       "      <td>0.7808929451096948</td>\n",
       "    </tr>\n",
       "    <tr>\n",
       "      <th>19</th>\n",
       "      <td>0ce23661f54a4a9b977f5b4c1b6bc273</td>\n",
       "      <td>0.099173</td>\n",
       "      <td>0.049865</td>\n",
       "      <td>0.005562156192303897</td>\n",
       "      <td>0.7638649802405694</td>\n",
       "      <td>5.0</td>\n",
       "      <td>839.0</td>\n",
       "      <td>0.7671657167444388</td>\n",
       "    </tr>\n",
       "    <tr>\n",
       "      <th>14</th>\n",
       "      <td>df0625065fb54cb1ba813c542e034926</td>\n",
       "      <td>0.099172</td>\n",
       "      <td>0.049091</td>\n",
       "      <td>0.007321728744184723</td>\n",
       "      <td>0.8389710204431613</td>\n",
       "      <td>7.0</td>\n",
       "      <td>384.0</td>\n",
       "      <td>0.7684901694514159</td>\n",
       "    </tr>\n",
       "    <tr>\n",
       "      <th>16</th>\n",
       "      <td>d90fecc9b2e642118e5f638b2ad7ba6e</td>\n",
       "      <td>0.099160</td>\n",
       "      <td>0.049018</td>\n",
       "      <td>0.01671283233448583</td>\n",
       "      <td>0.7501022488372513</td>\n",
       "      <td>4.0</td>\n",
       "      <td>513.0</td>\n",
       "      <td>0.9578330136438511</td>\n",
       "    </tr>\n",
       "    <tr>\n",
       "      <th>3</th>\n",
       "      <td>a8749b5d10ca4eee9a66c85a6a85d54c</td>\n",
       "      <td>0.099180</td>\n",
       "      <td>0.047387</td>\n",
       "      <td>0.0145076527677063</td>\n",
       "      <td>0.754984021039177</td>\n",
       "      <td>4.0</td>\n",
       "      <td>497.0</td>\n",
       "      <td>0.8336856220929764</td>\n",
       "    </tr>\n",
       "  </tbody>\n",
       "</table>\n",
       "</div>"
      ],
      "text/plain": [
       "                              run_id  metrics.mse  metrics.numerai_corr  \\\n",
       "11  7386b3eeac5943a99a2eb12c3ca6b7ca     0.099219              0.055340   \n",
       "6   d6a82a07c95b4f3c9d6146b220f44d6e     0.099111              0.054204   \n",
       "4   2c9496f25d2740cc8498b39b7cbc5fd8     0.099102              0.053856   \n",
       "7   f1d3468e76c947588916d38375aeba7f     0.099123              0.052449   \n",
       "9   79cec66dee70430ab776f4fe067b4f24     0.099149              0.051720   \n",
       "17  f5dd17fe7e724bfd9717460db10ebb21     0.099148              0.051633   \n",
       "19  0ce23661f54a4a9b977f5b4c1b6bc273     0.099173              0.049865   \n",
       "14  df0625065fb54cb1ba813c542e034926     0.099172              0.049091   \n",
       "16  d90fecc9b2e642118e5f638b2ad7ba6e     0.099160              0.049018   \n",
       "3   a8749b5d10ca4eee9a66c85a6a85d54c     0.099180              0.047387   \n",
       "\n",
       "    params.learning_rate params.colsample_bytree params.max_depth  \\\n",
       "11  0.018260219684644526       0.839006526386211              6.0   \n",
       "6   0.009013340339119909      0.8271417410062577              7.0   \n",
       "4   0.010937623355520456      0.8976333077003177              6.0   \n",
       "7   0.009630694692421275      0.8878067036822037              5.0   \n",
       "9   0.007761588801141417      0.8055985236893589              5.0   \n",
       "17   0.01935716286424518      0.7243890839103431              6.0   \n",
       "19  0.005562156192303897      0.7638649802405694              5.0   \n",
       "14  0.007321728744184723      0.8389710204431613              7.0   \n",
       "16   0.01671283233448583      0.7501022488372513              4.0   \n",
       "3     0.0145076527677063       0.754984021039177              4.0   \n",
       "\n",
       "   params.n_estimators    params.subsample  \n",
       "11               979.0  0.9981472462749852  \n",
       "6                877.0   0.932797232868126  \n",
       "4                819.0  0.7619005618077431  \n",
       "7                846.0  0.7701944350058726  \n",
       "9                691.0  0.7937204861797146  \n",
       "17               550.0  0.7808929451096948  \n",
       "19               839.0  0.7671657167444388  \n",
       "14               384.0  0.7684901694514159  \n",
       "16               513.0  0.9578330136438511  \n",
       "3                497.0  0.8336856220929764  "
      ]
     },
     "execution_count": 15,
     "metadata": {},
     "output_type": "execute_result"
    }
   ],
   "source": [
    "# Get experiment by name\n",
    "experiment = mlflow.get_experiment_by_name(experiment_name)\n",
    "experiment_id = experiment.experiment_id if experiment else None\n",
    "\n",
    "# Or get experiment by latest run\n",
    "# current_run = mlflow.active_run()\n",
    "# experiment_id = current_run.info.experiment_id if current_run else None\n",
    "\n",
    "# Get top runs\n",
    "runs = mlflow.search_runs(experiment_ids=[experiment_id])\n",
    "top_runs = runs.sort_values(by='metrics.numerai_corr', ascending=False).head(10)\n",
    "\n",
    "print(\"Top 10 Runs Based on Numerai Corr - MLFlow\")\n",
    "top_runs[['run_id', 'metrics.mse', 'metrics.numerai_corr', 'params.learning_rate',\n",
    "        'params.colsample_bytree',\n",
    "       'params.max_depth', 'params.n_estimators',\n",
    "       'params.subsample']]"
   ]
  },
  {
   "cell_type": "markdown",
   "id": "5c9305ce-b66a-4cc3-9580-883effb312ad",
   "metadata": {},
   "source": [
    "### Re-Create Top Model Based on Numerai Correlation\n",
    "- parameters like `max_depth` and `n_estimators` need to be converted to integers\n",
    "- be sure to add/remove additional hyperparameters"
   ]
  },
  {
   "cell_type": "code",
   "execution_count": 17,
   "id": "89cdd912-2bf0-4d83-91bf-cd70d008b336",
   "metadata": {},
   "outputs": [
    {
     "name": "stdout",
     "output_type": "stream",
     "text": [
      "MSE: 0.099114954\n",
      "Numerai Corr: 0.05336213965270191\n"
     ]
    }
   ],
   "source": [
    "top_model_params = top_runs.iloc[0]\n",
    "\n",
    "max_depth = int(float(top_model_params['params.max_depth']))\n",
    "n_estimators = int(float(top_model_params['params.n_estimators']))\n",
    "learning_rate = top_model_params['params.learning_rate']\n",
    "colsample_bytree = top_model_params['params.colsample_bytree']\n",
    "subsample = top_model_params['params.subsample']\n",
    "\n",
    "import xgboost as xgb\n",
    "\n",
    "model = xgb.XGBRegressor(\n",
    "    learning_rate=learning_rate,\n",
    "    colsample_bytree=colsample_bytree,\n",
    "    max_depth=max_depth,\n",
    "    n_estimators=n_estimators,\n",
    "    subsample=subsample, \n",
    "    tree_method='gpu_hist'\n",
    ")\n",
    "\n",
    "### IMPORTANT - SET UP TARGET AND TRAINING FEATURES ###\n",
    "target = 'target_cyrus_v4_20'\n",
    "train_features = train_features\n",
    "\n",
    "model.fit(train_df_pre_cutoff[train_features], train_df_pre_cutoff[target])\n",
    "\n",
    "prediction_df['prediction'] = model.predict(train_df_post_cutoff[train_features])\n",
    "mse = mean_squared_error(train_df_post_cutoff[target], prediction_df['prediction'])\n",
    "corr = numerai_corr(prediction_df['prediction'], train_df_post_cutoff[target])\n",
    "\n",
    "print(\"MSE:\", mse)\n",
    "print(\"Numerai Corr:\", corr)\n",
    "\n",
    "# save model\n",
    "model.save_model('xgboost_mlflow.json')"
   ]
  },
  {
   "cell_type": "code",
   "execution_count": 18,
   "id": "05185ee9-68a6-4749-90c2-5aace2dddae1",
   "metadata": {},
   "outputs": [],
   "source": []
  },
  {
   "cell_type": "code",
   "execution_count": null,
   "id": "07beee6b-e909-46c6-a805-096f67ada899",
   "metadata": {},
   "outputs": [],
   "source": []
  }
 ],
 "metadata": {
  "kernelspec": {
   "display_name": "Python 3 (ipykernel)",
   "language": "python",
   "name": "python3"
  },
  "language_info": {
   "codemirror_mode": {
    "name": "ipython",
    "version": 3
   },
   "file_extension": ".py",
   "mimetype": "text/x-python",
   "name": "python",
   "nbconvert_exporter": "python",
   "pygments_lexer": "ipython3",
   "version": "3.9.16"
  }
 },
 "nbformat": 4,
 "nbformat_minor": 5
}
