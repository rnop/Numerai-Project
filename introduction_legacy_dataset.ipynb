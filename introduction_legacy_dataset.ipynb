{
  "nbformat": 4,
  "nbformat_minor": 0,
  "metadata": {
    "colab": {
      "name": "introduction - legacy dataset.ipynb",
      "provenance": [],
      "collapsed_sections": [],
      "machine_shape": "hm",
      "authorship_tag": "ABX9TyN8hesFvunwRS9kCg9+3DnP",
      "include_colab_link": true
    },
    "kernelspec": {
      "display_name": "Python 3",
      "name": "python3"
    },
    "language_info": {
      "name": "python"
    }
  },
  "cells": [
    {
      "cell_type": "markdown",
      "metadata": {
        "id": "view-in-github",
        "colab_type": "text"
      },
      "source": [
        "<a href=\"https://colab.research.google.com/github/rnop/nmr_tournament/blob/main/introduction_legacy_dataset.ipynb\" target=\"_parent\"><img src=\"https://colab.research.google.com/assets/colab-badge.svg\" alt=\"Open In Colab\"/></a>"
      ]
    },
    {
      "cell_type": "markdown",
      "metadata": {
        "id": "mz1q_3GYLSSm"
      },
      "source": [
        "**Important note**: This notebook is specifically for the old legacy Numerai dataset. Numerai has told us the API for the legacy dataset will be depracated within 6 months from release of the new dataset (released in September 2021). I plan on moving to the new dataset ASAP and discontinuing use of the old legacy data. Therefore, this notebook will no longer be updated and may not work in the future. \n",
        "\n",
        "### Introduction to the Numerai Tournament\n",
        "Numerai is a hedge fund that trades the global markets based on models created by data scientists all over the world. Numerai is unique in that it provides free high-quality financial datasets that are worth millions of dollars to any user wanting to participate in their tournament. Users are able to build their own models on this anonymized and obfuscated dataset, submit their predictions, and follow their investment performance on the live stock market. If users are confident about their models, they are able to stake on them with real money using Numerai's cryptocurrency, Numeraire (NMR).\n",
        "\n",
        "### About this Notebook\n",
        "The purpose of this notebook is to provide an introduction on how to approach the main Numerai tournament. Alot of the code is taken from example scripts from Numerai's official GitHub here: https://github.com/numerai/example-scripts\n",
        "\n",
        "What's included:\n",
        "* how to read in the Numerai data via API\n",
        "* approaches to dimensionality reduction\n",
        "* training an xgboost model \n",
        "* bayesian optimization techniques\n",
        "* calculating predictions from the current round\n",
        "\n",
        "### Disclaimer\n",
        "**This model is not guaranteed to make you money.** I am currently not staking this particular model in the tournament. This notebook only serves to provide you an introduction to the tournament and to give some of my personal input on how to tackle this data science problem. "
      ]
    },
    {
      "cell_type": "code",
      "metadata": {
        "colab": {
          "base_uri": "https://localhost:8080/"
        },
        "id": "NSJ50dNE3iYR",
        "outputId": "05fe31a1-9e40-44e6-deed-0bddcacfc8f8"
      },
      "source": [
        "# Download the numerai library \n",
        "! pip install numerapi"
      ],
      "execution_count": 1,
      "outputs": [
        {
          "output_type": "stream",
          "name": "stdout",
          "text": [
            "Collecting numerapi\n",
            "  Downloading numerapi-2.9.0-py3-none-any.whl (26 kB)\n",
            "Requirement already satisfied: pytz in /usr/local/lib/python3.7/dist-packages (from numerapi) (2018.9)\n",
            "Requirement already satisfied: click>=7.0 in /usr/local/lib/python3.7/dist-packages (from numerapi) (7.1.2)\n",
            "Requirement already satisfied: tqdm>=4.29.1 in /usr/local/lib/python3.7/dist-packages (from numerapi) (4.62.2)\n",
            "Requirement already satisfied: pandas>=1.1.0 in /usr/local/lib/python3.7/dist-packages (from numerapi) (1.1.5)\n",
            "Requirement already satisfied: python-dateutil in /usr/local/lib/python3.7/dist-packages (from numerapi) (2.8.2)\n",
            "Requirement already satisfied: requests in /usr/local/lib/python3.7/dist-packages (from numerapi) (2.23.0)\n",
            "Requirement already satisfied: numpy>=1.15.4 in /usr/local/lib/python3.7/dist-packages (from pandas>=1.1.0->numerapi) (1.19.5)\n",
            "Requirement already satisfied: six>=1.5 in /usr/local/lib/python3.7/dist-packages (from python-dateutil->numerapi) (1.15.0)\n",
            "Requirement already satisfied: idna<3,>=2.5 in /usr/local/lib/python3.7/dist-packages (from requests->numerapi) (2.10)\n",
            "Requirement already satisfied: certifi>=2017.4.17 in /usr/local/lib/python3.7/dist-packages (from requests->numerapi) (2021.5.30)\n",
            "Requirement already satisfied: urllib3!=1.25.0,!=1.25.1,<1.26,>=1.21.1 in /usr/local/lib/python3.7/dist-packages (from requests->numerapi) (1.24.3)\n",
            "Requirement already satisfied: chardet<4,>=3.0.2 in /usr/local/lib/python3.7/dist-packages (from requests->numerapi) (3.0.4)\n",
            "Installing collected packages: numerapi\n",
            "Successfully installed numerapi-2.9.0\n"
          ]
        }
      ]
    },
    {
      "cell_type": "code",
      "metadata": {
        "id": "m9oubZY336Lv"
      },
      "source": [
        "import pandas as pd\n",
        "import numpy as np\n",
        "import numerapi\n",
        "\n",
        "import matplotlib.pyplot as plt\n",
        "%matplotlib inline\n",
        "import seaborn as sns\n",
        "sns.set_style('darkgrid')"
      ],
      "execution_count": 34,
      "outputs": []
    },
    {
      "cell_type": "markdown",
      "metadata": {
        "id": "-7ziKsCr4NBy"
      },
      "source": [
        "### Import data\n",
        "* Training data contains 501,808 observations\n",
        "* Tournament data contains the testing and validation sets, and the live observations you need to predict on for the upcoming round"
      ]
    },
    {
      "cell_type": "code",
      "metadata": {
        "colab": {
          "base_uri": "https://localhost:8080/"
        },
        "id": "NSm76usa4KtR",
        "outputId": "3bb86515-f5a6-4b36-ed2a-3031138d3377"
      },
      "source": [
        "host = 'numerai-public-datasets.s3-us-west-2.amazonaws.com'\n",
        "train_filename = 'latest_numerai_training_data.csv.xz'\n",
        "tourney_filename = 'latest_numerai_tournament_data.csv.xz'\n",
        "\n",
        "train_df = pd.read_csv('https://{}/{}'.format(host, train_filename))\n",
        "tourney_df = pd.read_csv('https://{}/{}'.format(host, tourney_filename))\n",
        "\n",
        "#Confirm round number\n",
        "napi = numerapi.NumerAPI(verbosity=\"info\")\n",
        "current_round = napi.get_current_round()\n",
        "print()\n",
        "print(\"ROUND NUMBER: \", current_round)"
      ],
      "execution_count": 3,
      "outputs": [
        {
          "output_type": "stream",
          "name": "stdout",
          "text": [
            "\n",
            "ROUND NUMBER:  282\n"
          ]
        }
      ]
    },
    {
      "cell_type": "code",
      "metadata": {
        "colab": {
          "base_uri": "https://localhost:8080/",
          "height": 253
        },
        "id": "EcpHlJib4Tg4",
        "outputId": "20a0be49-0e75-4f98-aeef-c7f355baa541"
      },
      "source": [
        "train_df.head()"
      ],
      "execution_count": 4,
      "outputs": [
        {
          "output_type": "execute_result",
          "data": {
            "text/html": [
              "<div>\n",
              "<style scoped>\n",
              "    .dataframe tbody tr th:only-of-type {\n",
              "        vertical-align: middle;\n",
              "    }\n",
              "\n",
              "    .dataframe tbody tr th {\n",
              "        vertical-align: top;\n",
              "    }\n",
              "\n",
              "    .dataframe thead th {\n",
              "        text-align: right;\n",
              "    }\n",
              "</style>\n",
              "<table border=\"1\" class=\"dataframe\">\n",
              "  <thead>\n",
              "    <tr style=\"text-align: right;\">\n",
              "      <th></th>\n",
              "      <th>id</th>\n",
              "      <th>era</th>\n",
              "      <th>data_type</th>\n",
              "      <th>feature_intelligence1</th>\n",
              "      <th>feature_intelligence2</th>\n",
              "      <th>feature_intelligence3</th>\n",
              "      <th>feature_intelligence4</th>\n",
              "      <th>feature_intelligence5</th>\n",
              "      <th>feature_intelligence6</th>\n",
              "      <th>feature_intelligence7</th>\n",
              "      <th>feature_intelligence8</th>\n",
              "      <th>feature_intelligence9</th>\n",
              "      <th>feature_intelligence10</th>\n",
              "      <th>feature_intelligence11</th>\n",
              "      <th>feature_intelligence12</th>\n",
              "      <th>feature_charisma1</th>\n",
              "      <th>feature_charisma2</th>\n",
              "      <th>feature_charisma3</th>\n",
              "      <th>feature_charisma4</th>\n",
              "      <th>feature_charisma5</th>\n",
              "      <th>feature_charisma6</th>\n",
              "      <th>feature_charisma7</th>\n",
              "      <th>feature_charisma8</th>\n",
              "      <th>feature_charisma9</th>\n",
              "      <th>feature_charisma10</th>\n",
              "      <th>feature_charisma11</th>\n",
              "      <th>feature_charisma12</th>\n",
              "      <th>feature_charisma13</th>\n",
              "      <th>feature_charisma14</th>\n",
              "      <th>feature_charisma15</th>\n",
              "      <th>feature_charisma16</th>\n",
              "      <th>feature_charisma17</th>\n",
              "      <th>feature_charisma18</th>\n",
              "      <th>feature_charisma19</th>\n",
              "      <th>feature_charisma20</th>\n",
              "      <th>feature_charisma21</th>\n",
              "      <th>feature_charisma22</th>\n",
              "      <th>feature_charisma23</th>\n",
              "      <th>feature_charisma24</th>\n",
              "      <th>feature_charisma25</th>\n",
              "      <th>...</th>\n",
              "      <th>feature_wisdom8</th>\n",
              "      <th>feature_wisdom9</th>\n",
              "      <th>feature_wisdom10</th>\n",
              "      <th>feature_wisdom11</th>\n",
              "      <th>feature_wisdom12</th>\n",
              "      <th>feature_wisdom13</th>\n",
              "      <th>feature_wisdom14</th>\n",
              "      <th>feature_wisdom15</th>\n",
              "      <th>feature_wisdom16</th>\n",
              "      <th>feature_wisdom17</th>\n",
              "      <th>feature_wisdom18</th>\n",
              "      <th>feature_wisdom19</th>\n",
              "      <th>feature_wisdom20</th>\n",
              "      <th>feature_wisdom21</th>\n",
              "      <th>feature_wisdom22</th>\n",
              "      <th>feature_wisdom23</th>\n",
              "      <th>feature_wisdom24</th>\n",
              "      <th>feature_wisdom25</th>\n",
              "      <th>feature_wisdom26</th>\n",
              "      <th>feature_wisdom27</th>\n",
              "      <th>feature_wisdom28</th>\n",
              "      <th>feature_wisdom29</th>\n",
              "      <th>feature_wisdom30</th>\n",
              "      <th>feature_wisdom31</th>\n",
              "      <th>feature_wisdom32</th>\n",
              "      <th>feature_wisdom33</th>\n",
              "      <th>feature_wisdom34</th>\n",
              "      <th>feature_wisdom35</th>\n",
              "      <th>feature_wisdom36</th>\n",
              "      <th>feature_wisdom37</th>\n",
              "      <th>feature_wisdom38</th>\n",
              "      <th>feature_wisdom39</th>\n",
              "      <th>feature_wisdom40</th>\n",
              "      <th>feature_wisdom41</th>\n",
              "      <th>feature_wisdom42</th>\n",
              "      <th>feature_wisdom43</th>\n",
              "      <th>feature_wisdom44</th>\n",
              "      <th>feature_wisdom45</th>\n",
              "      <th>feature_wisdom46</th>\n",
              "      <th>target</th>\n",
              "    </tr>\n",
              "  </thead>\n",
              "  <tbody>\n",
              "    <tr>\n",
              "      <th>0</th>\n",
              "      <td>n000315175b67977</td>\n",
              "      <td>era1</td>\n",
              "      <td>train</td>\n",
              "      <td>0.00</td>\n",
              "      <td>0.50</td>\n",
              "      <td>0.25</td>\n",
              "      <td>0.00</td>\n",
              "      <td>0.5</td>\n",
              "      <td>0.25</td>\n",
              "      <td>0.25</td>\n",
              "      <td>0.25</td>\n",
              "      <td>0.75</td>\n",
              "      <td>0.75</td>\n",
              "      <td>0.25</td>\n",
              "      <td>0.25</td>\n",
              "      <td>1.00</td>\n",
              "      <td>0.75</td>\n",
              "      <td>0.5</td>\n",
              "      <td>1.0</td>\n",
              "      <td>0.5</td>\n",
              "      <td>0.00</td>\n",
              "      <td>0.50</td>\n",
              "      <td>0.50</td>\n",
              "      <td>0.00</td>\n",
              "      <td>0.0</td>\n",
              "      <td>0.00</td>\n",
              "      <td>1.00</td>\n",
              "      <td>0.25</td>\n",
              "      <td>0.00</td>\n",
              "      <td>0.50</td>\n",
              "      <td>0.25</td>\n",
              "      <td>0.75</td>\n",
              "      <td>0.50</td>\n",
              "      <td>1.00</td>\n",
              "      <td>0.75</td>\n",
              "      <td>0.75</td>\n",
              "      <td>0.5</td>\n",
              "      <td>0.50</td>\n",
              "      <td>0.75</td>\n",
              "      <td>0.5</td>\n",
              "      <td>...</td>\n",
              "      <td>0.75</td>\n",
              "      <td>0.75</td>\n",
              "      <td>0.75</td>\n",
              "      <td>0.50</td>\n",
              "      <td>1.00</td>\n",
              "      <td>1.00</td>\n",
              "      <td>0.50</td>\n",
              "      <td>0.75</td>\n",
              "      <td>0.5</td>\n",
              "      <td>0.25</td>\n",
              "      <td>0.25</td>\n",
              "      <td>0.75</td>\n",
              "      <td>0.50</td>\n",
              "      <td>1.00</td>\n",
              "      <td>0.5</td>\n",
              "      <td>0.75</td>\n",
              "      <td>0.75</td>\n",
              "      <td>0.25</td>\n",
              "      <td>0.50</td>\n",
              "      <td>1.00</td>\n",
              "      <td>0.75</td>\n",
              "      <td>0.50</td>\n",
              "      <td>0.50</td>\n",
              "      <td>1.00</td>\n",
              "      <td>0.25</td>\n",
              "      <td>0.5</td>\n",
              "      <td>0.50</td>\n",
              "      <td>0.50</td>\n",
              "      <td>0.75</td>\n",
              "      <td>1.00</td>\n",
              "      <td>1.00</td>\n",
              "      <td>1.00</td>\n",
              "      <td>0.75</td>\n",
              "      <td>0.50</td>\n",
              "      <td>0.75</td>\n",
              "      <td>0.50</td>\n",
              "      <td>1.00</td>\n",
              "      <td>0.50</td>\n",
              "      <td>0.75</td>\n",
              "      <td>0.50</td>\n",
              "    </tr>\n",
              "    <tr>\n",
              "      <th>1</th>\n",
              "      <td>n0014af834a96cdd</td>\n",
              "      <td>era1</td>\n",
              "      <td>train</td>\n",
              "      <td>0.00</td>\n",
              "      <td>0.00</td>\n",
              "      <td>0.00</td>\n",
              "      <td>0.25</td>\n",
              "      <td>0.5</td>\n",
              "      <td>0.00</td>\n",
              "      <td>0.00</td>\n",
              "      <td>0.25</td>\n",
              "      <td>0.50</td>\n",
              "      <td>0.50</td>\n",
              "      <td>0.00</td>\n",
              "      <td>0.50</td>\n",
              "      <td>0.00</td>\n",
              "      <td>0.50</td>\n",
              "      <td>0.5</td>\n",
              "      <td>0.5</td>\n",
              "      <td>0.5</td>\n",
              "      <td>0.50</td>\n",
              "      <td>0.25</td>\n",
              "      <td>0.25</td>\n",
              "      <td>0.50</td>\n",
              "      <td>0.0</td>\n",
              "      <td>1.00</td>\n",
              "      <td>0.50</td>\n",
              "      <td>0.50</td>\n",
              "      <td>0.50</td>\n",
              "      <td>0.75</td>\n",
              "      <td>0.50</td>\n",
              "      <td>0.50</td>\n",
              "      <td>0.75</td>\n",
              "      <td>0.25</td>\n",
              "      <td>0.50</td>\n",
              "      <td>0.75</td>\n",
              "      <td>0.5</td>\n",
              "      <td>0.25</td>\n",
              "      <td>0.75</td>\n",
              "      <td>0.5</td>\n",
              "      <td>...</td>\n",
              "      <td>0.25</td>\n",
              "      <td>0.25</td>\n",
              "      <td>0.25</td>\n",
              "      <td>1.00</td>\n",
              "      <td>1.00</td>\n",
              "      <td>0.50</td>\n",
              "      <td>0.50</td>\n",
              "      <td>0.50</td>\n",
              "      <td>0.0</td>\n",
              "      <td>0.25</td>\n",
              "      <td>1.00</td>\n",
              "      <td>0.50</td>\n",
              "      <td>1.00</td>\n",
              "      <td>1.00</td>\n",
              "      <td>0.5</td>\n",
              "      <td>0.50</td>\n",
              "      <td>0.50</td>\n",
              "      <td>1.00</td>\n",
              "      <td>0.25</td>\n",
              "      <td>0.75</td>\n",
              "      <td>1.00</td>\n",
              "      <td>0.25</td>\n",
              "      <td>0.25</td>\n",
              "      <td>1.00</td>\n",
              "      <td>0.50</td>\n",
              "      <td>0.5</td>\n",
              "      <td>0.50</td>\n",
              "      <td>0.75</td>\n",
              "      <td>0.75</td>\n",
              "      <td>0.75</td>\n",
              "      <td>1.00</td>\n",
              "      <td>1.00</td>\n",
              "      <td>0.00</td>\n",
              "      <td>0.00</td>\n",
              "      <td>0.75</td>\n",
              "      <td>0.25</td>\n",
              "      <td>0.00</td>\n",
              "      <td>0.25</td>\n",
              "      <td>1.00</td>\n",
              "      <td>0.25</td>\n",
              "    </tr>\n",
              "    <tr>\n",
              "      <th>2</th>\n",
              "      <td>n001c93979ac41d4</td>\n",
              "      <td>era1</td>\n",
              "      <td>train</td>\n",
              "      <td>0.25</td>\n",
              "      <td>0.50</td>\n",
              "      <td>0.25</td>\n",
              "      <td>0.25</td>\n",
              "      <td>1.0</td>\n",
              "      <td>0.75</td>\n",
              "      <td>0.75</td>\n",
              "      <td>0.25</td>\n",
              "      <td>0.00</td>\n",
              "      <td>0.25</td>\n",
              "      <td>0.50</td>\n",
              "      <td>1.00</td>\n",
              "      <td>0.50</td>\n",
              "      <td>0.75</td>\n",
              "      <td>0.5</td>\n",
              "      <td>0.5</td>\n",
              "      <td>1.0</td>\n",
              "      <td>0.50</td>\n",
              "      <td>0.50</td>\n",
              "      <td>0.50</td>\n",
              "      <td>0.25</td>\n",
              "      <td>0.0</td>\n",
              "      <td>0.25</td>\n",
              "      <td>0.75</td>\n",
              "      <td>0.75</td>\n",
              "      <td>0.75</td>\n",
              "      <td>0.50</td>\n",
              "      <td>0.75</td>\n",
              "      <td>0.50</td>\n",
              "      <td>0.25</td>\n",
              "      <td>0.50</td>\n",
              "      <td>0.75</td>\n",
              "      <td>0.25</td>\n",
              "      <td>0.5</td>\n",
              "      <td>0.50</td>\n",
              "      <td>0.75</td>\n",
              "      <td>0.5</td>\n",
              "      <td>...</td>\n",
              "      <td>0.25</td>\n",
              "      <td>1.00</td>\n",
              "      <td>1.00</td>\n",
              "      <td>1.00</td>\n",
              "      <td>0.50</td>\n",
              "      <td>1.00</td>\n",
              "      <td>1.00</td>\n",
              "      <td>1.00</td>\n",
              "      <td>0.5</td>\n",
              "      <td>1.00</td>\n",
              "      <td>0.00</td>\n",
              "      <td>1.00</td>\n",
              "      <td>1.00</td>\n",
              "      <td>0.50</td>\n",
              "      <td>1.0</td>\n",
              "      <td>0.75</td>\n",
              "      <td>1.00</td>\n",
              "      <td>0.00</td>\n",
              "      <td>0.50</td>\n",
              "      <td>0.75</td>\n",
              "      <td>0.00</td>\n",
              "      <td>1.00</td>\n",
              "      <td>0.50</td>\n",
              "      <td>0.50</td>\n",
              "      <td>0.75</td>\n",
              "      <td>1.0</td>\n",
              "      <td>0.75</td>\n",
              "      <td>1.00</td>\n",
              "      <td>0.25</td>\n",
              "      <td>0.50</td>\n",
              "      <td>0.25</td>\n",
              "      <td>0.50</td>\n",
              "      <td>0.00</td>\n",
              "      <td>0.00</td>\n",
              "      <td>0.50</td>\n",
              "      <td>1.00</td>\n",
              "      <td>0.00</td>\n",
              "      <td>0.25</td>\n",
              "      <td>0.75</td>\n",
              "      <td>0.25</td>\n",
              "    </tr>\n",
              "    <tr>\n",
              "      <th>3</th>\n",
              "      <td>n0034e4143f22a13</td>\n",
              "      <td>era1</td>\n",
              "      <td>train</td>\n",
              "      <td>1.00</td>\n",
              "      <td>0.00</td>\n",
              "      <td>0.00</td>\n",
              "      <td>0.50</td>\n",
              "      <td>0.5</td>\n",
              "      <td>0.25</td>\n",
              "      <td>0.25</td>\n",
              "      <td>0.75</td>\n",
              "      <td>0.25</td>\n",
              "      <td>0.50</td>\n",
              "      <td>0.50</td>\n",
              "      <td>0.50</td>\n",
              "      <td>0.75</td>\n",
              "      <td>0.50</td>\n",
              "      <td>1.0</td>\n",
              "      <td>0.5</td>\n",
              "      <td>0.5</td>\n",
              "      <td>0.00</td>\n",
              "      <td>1.00</td>\n",
              "      <td>0.00</td>\n",
              "      <td>0.75</td>\n",
              "      <td>0.0</td>\n",
              "      <td>0.50</td>\n",
              "      <td>0.50</td>\n",
              "      <td>0.50</td>\n",
              "      <td>0.50</td>\n",
              "      <td>0.00</td>\n",
              "      <td>0.50</td>\n",
              "      <td>0.50</td>\n",
              "      <td>0.75</td>\n",
              "      <td>0.75</td>\n",
              "      <td>0.50</td>\n",
              "      <td>0.25</td>\n",
              "      <td>0.5</td>\n",
              "      <td>0.50</td>\n",
              "      <td>0.50</td>\n",
              "      <td>0.5</td>\n",
              "      <td>...</td>\n",
              "      <td>1.00</td>\n",
              "      <td>1.00</td>\n",
              "      <td>0.75</td>\n",
              "      <td>0.75</td>\n",
              "      <td>1.00</td>\n",
              "      <td>0.75</td>\n",
              "      <td>0.75</td>\n",
              "      <td>0.75</td>\n",
              "      <td>1.0</td>\n",
              "      <td>0.75</td>\n",
              "      <td>1.00</td>\n",
              "      <td>0.75</td>\n",
              "      <td>1.00</td>\n",
              "      <td>0.75</td>\n",
              "      <td>1.0</td>\n",
              "      <td>0.00</td>\n",
              "      <td>0.50</td>\n",
              "      <td>0.75</td>\n",
              "      <td>1.00</td>\n",
              "      <td>0.75</td>\n",
              "      <td>1.00</td>\n",
              "      <td>0.75</td>\n",
              "      <td>1.00</td>\n",
              "      <td>1.00</td>\n",
              "      <td>0.00</td>\n",
              "      <td>0.5</td>\n",
              "      <td>0.75</td>\n",
              "      <td>0.75</td>\n",
              "      <td>1.00</td>\n",
              "      <td>0.75</td>\n",
              "      <td>1.00</td>\n",
              "      <td>1.00</td>\n",
              "      <td>0.75</td>\n",
              "      <td>0.75</td>\n",
              "      <td>1.00</td>\n",
              "      <td>1.00</td>\n",
              "      <td>0.75</td>\n",
              "      <td>1.00</td>\n",
              "      <td>1.00</td>\n",
              "      <td>0.25</td>\n",
              "    </tr>\n",
              "    <tr>\n",
              "      <th>4</th>\n",
              "      <td>n00679d1a636062f</td>\n",
              "      <td>era1</td>\n",
              "      <td>train</td>\n",
              "      <td>0.25</td>\n",
              "      <td>0.25</td>\n",
              "      <td>0.25</td>\n",
              "      <td>0.25</td>\n",
              "      <td>0.0</td>\n",
              "      <td>0.25</td>\n",
              "      <td>0.50</td>\n",
              "      <td>0.25</td>\n",
              "      <td>0.25</td>\n",
              "      <td>0.50</td>\n",
              "      <td>0.25</td>\n",
              "      <td>0.25</td>\n",
              "      <td>0.75</td>\n",
              "      <td>0.50</td>\n",
              "      <td>0.0</td>\n",
              "      <td>0.5</td>\n",
              "      <td>0.5</td>\n",
              "      <td>0.25</td>\n",
              "      <td>0.00</td>\n",
              "      <td>0.50</td>\n",
              "      <td>0.00</td>\n",
              "      <td>0.5</td>\n",
              "      <td>0.25</td>\n",
              "      <td>0.50</td>\n",
              "      <td>0.50</td>\n",
              "      <td>0.50</td>\n",
              "      <td>0.50</td>\n",
              "      <td>0.50</td>\n",
              "      <td>0.50</td>\n",
              "      <td>0.50</td>\n",
              "      <td>0.75</td>\n",
              "      <td>0.50</td>\n",
              "      <td>0.25</td>\n",
              "      <td>0.5</td>\n",
              "      <td>0.50</td>\n",
              "      <td>0.50</td>\n",
              "      <td>0.5</td>\n",
              "      <td>...</td>\n",
              "      <td>1.00</td>\n",
              "      <td>0.25</td>\n",
              "      <td>0.75</td>\n",
              "      <td>1.00</td>\n",
              "      <td>0.75</td>\n",
              "      <td>0.00</td>\n",
              "      <td>0.00</td>\n",
              "      <td>0.75</td>\n",
              "      <td>0.5</td>\n",
              "      <td>1.00</td>\n",
              "      <td>0.50</td>\n",
              "      <td>0.75</td>\n",
              "      <td>0.25</td>\n",
              "      <td>0.50</td>\n",
              "      <td>0.0</td>\n",
              "      <td>0.50</td>\n",
              "      <td>0.50</td>\n",
              "      <td>0.50</td>\n",
              "      <td>0.75</td>\n",
              "      <td>0.75</td>\n",
              "      <td>0.50</td>\n",
              "      <td>0.75</td>\n",
              "      <td>0.25</td>\n",
              "      <td>0.75</td>\n",
              "      <td>0.50</td>\n",
              "      <td>0.5</td>\n",
              "      <td>0.25</td>\n",
              "      <td>0.25</td>\n",
              "      <td>0.75</td>\n",
              "      <td>0.50</td>\n",
              "      <td>0.75</td>\n",
              "      <td>0.75</td>\n",
              "      <td>0.25</td>\n",
              "      <td>0.50</td>\n",
              "      <td>0.75</td>\n",
              "      <td>0.00</td>\n",
              "      <td>0.50</td>\n",
              "      <td>0.25</td>\n",
              "      <td>0.75</td>\n",
              "      <td>0.75</td>\n",
              "    </tr>\n",
              "  </tbody>\n",
              "</table>\n",
              "<p>5 rows × 314 columns</p>\n",
              "</div>"
            ],
            "text/plain": [
              "                 id   era data_type  ...  feature_wisdom45  feature_wisdom46  target\n",
              "0  n000315175b67977  era1     train  ...              0.50              0.75    0.50\n",
              "1  n0014af834a96cdd  era1     train  ...              0.25              1.00    0.25\n",
              "2  n001c93979ac41d4  era1     train  ...              0.25              0.75    0.25\n",
              "3  n0034e4143f22a13  era1     train  ...              1.00              1.00    0.25\n",
              "4  n00679d1a636062f  era1     train  ...              0.25              0.75    0.75\n",
              "\n",
              "[5 rows x 314 columns]"
            ]
          },
          "metadata": {},
          "execution_count": 4
        }
      ]
    },
    {
      "cell_type": "code",
      "metadata": {
        "colab": {
          "base_uri": "https://localhost:8080/",
          "height": 253
        },
        "id": "Skw9H8Sd4xJs",
        "outputId": "8fd47e5c-e62d-4423-ccae-9b2ce2168d04"
      },
      "source": [
        "tourney_df.head()"
      ],
      "execution_count": 5,
      "outputs": [
        {
          "output_type": "execute_result",
          "data": {
            "text/html": [
              "<div>\n",
              "<style scoped>\n",
              "    .dataframe tbody tr th:only-of-type {\n",
              "        vertical-align: middle;\n",
              "    }\n",
              "\n",
              "    .dataframe tbody tr th {\n",
              "        vertical-align: top;\n",
              "    }\n",
              "\n",
              "    .dataframe thead th {\n",
              "        text-align: right;\n",
              "    }\n",
              "</style>\n",
              "<table border=\"1\" class=\"dataframe\">\n",
              "  <thead>\n",
              "    <tr style=\"text-align: right;\">\n",
              "      <th></th>\n",
              "      <th>id</th>\n",
              "      <th>era</th>\n",
              "      <th>data_type</th>\n",
              "      <th>feature_intelligence1</th>\n",
              "      <th>feature_intelligence2</th>\n",
              "      <th>feature_intelligence3</th>\n",
              "      <th>feature_intelligence4</th>\n",
              "      <th>feature_intelligence5</th>\n",
              "      <th>feature_intelligence6</th>\n",
              "      <th>feature_intelligence7</th>\n",
              "      <th>feature_intelligence8</th>\n",
              "      <th>feature_intelligence9</th>\n",
              "      <th>feature_intelligence10</th>\n",
              "      <th>feature_intelligence11</th>\n",
              "      <th>feature_intelligence12</th>\n",
              "      <th>feature_charisma1</th>\n",
              "      <th>feature_charisma2</th>\n",
              "      <th>feature_charisma3</th>\n",
              "      <th>feature_charisma4</th>\n",
              "      <th>feature_charisma5</th>\n",
              "      <th>feature_charisma6</th>\n",
              "      <th>feature_charisma7</th>\n",
              "      <th>feature_charisma8</th>\n",
              "      <th>feature_charisma9</th>\n",
              "      <th>feature_charisma10</th>\n",
              "      <th>feature_charisma11</th>\n",
              "      <th>feature_charisma12</th>\n",
              "      <th>feature_charisma13</th>\n",
              "      <th>feature_charisma14</th>\n",
              "      <th>feature_charisma15</th>\n",
              "      <th>feature_charisma16</th>\n",
              "      <th>feature_charisma17</th>\n",
              "      <th>feature_charisma18</th>\n",
              "      <th>feature_charisma19</th>\n",
              "      <th>feature_charisma20</th>\n",
              "      <th>feature_charisma21</th>\n",
              "      <th>feature_charisma22</th>\n",
              "      <th>feature_charisma23</th>\n",
              "      <th>feature_charisma24</th>\n",
              "      <th>feature_charisma25</th>\n",
              "      <th>...</th>\n",
              "      <th>feature_wisdom8</th>\n",
              "      <th>feature_wisdom9</th>\n",
              "      <th>feature_wisdom10</th>\n",
              "      <th>feature_wisdom11</th>\n",
              "      <th>feature_wisdom12</th>\n",
              "      <th>feature_wisdom13</th>\n",
              "      <th>feature_wisdom14</th>\n",
              "      <th>feature_wisdom15</th>\n",
              "      <th>feature_wisdom16</th>\n",
              "      <th>feature_wisdom17</th>\n",
              "      <th>feature_wisdom18</th>\n",
              "      <th>feature_wisdom19</th>\n",
              "      <th>feature_wisdom20</th>\n",
              "      <th>feature_wisdom21</th>\n",
              "      <th>feature_wisdom22</th>\n",
              "      <th>feature_wisdom23</th>\n",
              "      <th>feature_wisdom24</th>\n",
              "      <th>feature_wisdom25</th>\n",
              "      <th>feature_wisdom26</th>\n",
              "      <th>feature_wisdom27</th>\n",
              "      <th>feature_wisdom28</th>\n",
              "      <th>feature_wisdom29</th>\n",
              "      <th>feature_wisdom30</th>\n",
              "      <th>feature_wisdom31</th>\n",
              "      <th>feature_wisdom32</th>\n",
              "      <th>feature_wisdom33</th>\n",
              "      <th>feature_wisdom34</th>\n",
              "      <th>feature_wisdom35</th>\n",
              "      <th>feature_wisdom36</th>\n",
              "      <th>feature_wisdom37</th>\n",
              "      <th>feature_wisdom38</th>\n",
              "      <th>feature_wisdom39</th>\n",
              "      <th>feature_wisdom40</th>\n",
              "      <th>feature_wisdom41</th>\n",
              "      <th>feature_wisdom42</th>\n",
              "      <th>feature_wisdom43</th>\n",
              "      <th>feature_wisdom44</th>\n",
              "      <th>feature_wisdom45</th>\n",
              "      <th>feature_wisdom46</th>\n",
              "      <th>target</th>\n",
              "    </tr>\n",
              "  </thead>\n",
              "  <tbody>\n",
              "    <tr>\n",
              "      <th>0</th>\n",
              "      <td>n0003aa52cab36c2</td>\n",
              "      <td>era121</td>\n",
              "      <td>validation</td>\n",
              "      <td>0.25</td>\n",
              "      <td>0.75</td>\n",
              "      <td>0.50</td>\n",
              "      <td>0.50</td>\n",
              "      <td>0.0</td>\n",
              "      <td>0.75</td>\n",
              "      <td>0.5</td>\n",
              "      <td>0.25</td>\n",
              "      <td>0.50</td>\n",
              "      <td>0.5</td>\n",
              "      <td>0.25</td>\n",
              "      <td>0.0</td>\n",
              "      <td>0.25</td>\n",
              "      <td>0.50</td>\n",
              "      <td>0.25</td>\n",
              "      <td>0.00</td>\n",
              "      <td>0.25</td>\n",
              "      <td>1.00</td>\n",
              "      <td>1.00</td>\n",
              "      <td>0.25</td>\n",
              "      <td>1.00</td>\n",
              "      <td>1.00</td>\n",
              "      <td>0.25</td>\n",
              "      <td>0.25</td>\n",
              "      <td>0.0</td>\n",
              "      <td>0.50</td>\n",
              "      <td>0.25</td>\n",
              "      <td>0.75</td>\n",
              "      <td>0.00</td>\n",
              "      <td>0.50</td>\n",
              "      <td>0.25</td>\n",
              "      <td>0.25</td>\n",
              "      <td>0.25</td>\n",
              "      <td>0.50</td>\n",
              "      <td>0.00</td>\n",
              "      <td>0.50</td>\n",
              "      <td>1.00</td>\n",
              "      <td>...</td>\n",
              "      <td>0.00</td>\n",
              "      <td>0.0</td>\n",
              "      <td>0.25</td>\n",
              "      <td>0.5</td>\n",
              "      <td>0.25</td>\n",
              "      <td>0.25</td>\n",
              "      <td>0.00</td>\n",
              "      <td>0.25</td>\n",
              "      <td>0.00</td>\n",
              "      <td>0.25</td>\n",
              "      <td>0.50</td>\n",
              "      <td>0.50</td>\n",
              "      <td>0.50</td>\n",
              "      <td>0.50</td>\n",
              "      <td>0.00</td>\n",
              "      <td>0.25</td>\n",
              "      <td>0.75</td>\n",
              "      <td>0.25</td>\n",
              "      <td>0.25</td>\n",
              "      <td>0.50</td>\n",
              "      <td>0.25</td>\n",
              "      <td>0.00</td>\n",
              "      <td>0.25</td>\n",
              "      <td>0.50</td>\n",
              "      <td>0.25</td>\n",
              "      <td>0.5</td>\n",
              "      <td>0.25</td>\n",
              "      <td>0.25</td>\n",
              "      <td>1.00</td>\n",
              "      <td>0.75</td>\n",
              "      <td>0.75</td>\n",
              "      <td>0.75</td>\n",
              "      <td>1.00</td>\n",
              "      <td>0.75</td>\n",
              "      <td>0.50</td>\n",
              "      <td>0.5</td>\n",
              "      <td>1.0</td>\n",
              "      <td>0.00</td>\n",
              "      <td>0.00</td>\n",
              "      <td>0.25</td>\n",
              "    </tr>\n",
              "    <tr>\n",
              "      <th>1</th>\n",
              "      <td>n000920ed083903f</td>\n",
              "      <td>era121</td>\n",
              "      <td>validation</td>\n",
              "      <td>0.75</td>\n",
              "      <td>0.50</td>\n",
              "      <td>0.75</td>\n",
              "      <td>1.00</td>\n",
              "      <td>0.5</td>\n",
              "      <td>0.00</td>\n",
              "      <td>0.0</td>\n",
              "      <td>0.75</td>\n",
              "      <td>0.25</td>\n",
              "      <td>0.0</td>\n",
              "      <td>0.75</td>\n",
              "      <td>0.5</td>\n",
              "      <td>0.00</td>\n",
              "      <td>0.25</td>\n",
              "      <td>0.50</td>\n",
              "      <td>0.00</td>\n",
              "      <td>1.00</td>\n",
              "      <td>0.25</td>\n",
              "      <td>0.25</td>\n",
              "      <td>1.00</td>\n",
              "      <td>1.00</td>\n",
              "      <td>0.25</td>\n",
              "      <td>0.75</td>\n",
              "      <td>0.00</td>\n",
              "      <td>0.0</td>\n",
              "      <td>0.75</td>\n",
              "      <td>1.00</td>\n",
              "      <td>1.00</td>\n",
              "      <td>0.00</td>\n",
              "      <td>0.25</td>\n",
              "      <td>0.00</td>\n",
              "      <td>0.00</td>\n",
              "      <td>0.25</td>\n",
              "      <td>0.25</td>\n",
              "      <td>0.25</td>\n",
              "      <td>0.00</td>\n",
              "      <td>1.00</td>\n",
              "      <td>...</td>\n",
              "      <td>0.50</td>\n",
              "      <td>0.5</td>\n",
              "      <td>0.25</td>\n",
              "      <td>1.0</td>\n",
              "      <td>0.50</td>\n",
              "      <td>0.25</td>\n",
              "      <td>0.00</td>\n",
              "      <td>0.25</td>\n",
              "      <td>0.50</td>\n",
              "      <td>0.25</td>\n",
              "      <td>1.00</td>\n",
              "      <td>0.25</td>\n",
              "      <td>0.00</td>\n",
              "      <td>0.50</td>\n",
              "      <td>0.75</td>\n",
              "      <td>0.75</td>\n",
              "      <td>0.50</td>\n",
              "      <td>1.00</td>\n",
              "      <td>1.00</td>\n",
              "      <td>0.25</td>\n",
              "      <td>0.50</td>\n",
              "      <td>0.25</td>\n",
              "      <td>0.50</td>\n",
              "      <td>0.50</td>\n",
              "      <td>0.50</td>\n",
              "      <td>0.5</td>\n",
              "      <td>0.25</td>\n",
              "      <td>0.25</td>\n",
              "      <td>0.75</td>\n",
              "      <td>0.50</td>\n",
              "      <td>0.50</td>\n",
              "      <td>0.50</td>\n",
              "      <td>0.75</td>\n",
              "      <td>1.00</td>\n",
              "      <td>0.75</td>\n",
              "      <td>0.5</td>\n",
              "      <td>0.5</td>\n",
              "      <td>0.50</td>\n",
              "      <td>0.50</td>\n",
              "      <td>0.50</td>\n",
              "    </tr>\n",
              "    <tr>\n",
              "      <th>2</th>\n",
              "      <td>n0038e640522c4a6</td>\n",
              "      <td>era121</td>\n",
              "      <td>validation</td>\n",
              "      <td>1.00</td>\n",
              "      <td>0.00</td>\n",
              "      <td>0.00</td>\n",
              "      <td>1.00</td>\n",
              "      <td>1.0</td>\n",
              "      <td>1.00</td>\n",
              "      <td>1.0</td>\n",
              "      <td>1.00</td>\n",
              "      <td>0.50</td>\n",
              "      <td>0.5</td>\n",
              "      <td>1.00</td>\n",
              "      <td>1.0</td>\n",
              "      <td>1.00</td>\n",
              "      <td>0.75</td>\n",
              "      <td>0.50</td>\n",
              "      <td>0.50</td>\n",
              "      <td>1.00</td>\n",
              "      <td>1.00</td>\n",
              "      <td>0.50</td>\n",
              "      <td>0.50</td>\n",
              "      <td>0.00</td>\n",
              "      <td>1.00</td>\n",
              "      <td>0.50</td>\n",
              "      <td>1.00</td>\n",
              "      <td>0.5</td>\n",
              "      <td>1.00</td>\n",
              "      <td>0.50</td>\n",
              "      <td>1.00</td>\n",
              "      <td>0.25</td>\n",
              "      <td>1.00</td>\n",
              "      <td>1.00</td>\n",
              "      <td>1.00</td>\n",
              "      <td>0.50</td>\n",
              "      <td>1.00</td>\n",
              "      <td>1.00</td>\n",
              "      <td>0.75</td>\n",
              "      <td>1.00</td>\n",
              "      <td>...</td>\n",
              "      <td>0.25</td>\n",
              "      <td>0.5</td>\n",
              "      <td>0.00</td>\n",
              "      <td>0.0</td>\n",
              "      <td>0.00</td>\n",
              "      <td>0.25</td>\n",
              "      <td>0.25</td>\n",
              "      <td>0.00</td>\n",
              "      <td>0.50</td>\n",
              "      <td>0.00</td>\n",
              "      <td>0.00</td>\n",
              "      <td>0.00</td>\n",
              "      <td>0.25</td>\n",
              "      <td>0.00</td>\n",
              "      <td>0.25</td>\n",
              "      <td>0.50</td>\n",
              "      <td>0.00</td>\n",
              "      <td>0.00</td>\n",
              "      <td>0.00</td>\n",
              "      <td>0.00</td>\n",
              "      <td>0.00</td>\n",
              "      <td>0.00</td>\n",
              "      <td>0.50</td>\n",
              "      <td>0.00</td>\n",
              "      <td>0.75</td>\n",
              "      <td>0.0</td>\n",
              "      <td>0.00</td>\n",
              "      <td>0.25</td>\n",
              "      <td>0.00</td>\n",
              "      <td>0.00</td>\n",
              "      <td>0.00</td>\n",
              "      <td>0.00</td>\n",
              "      <td>0.50</td>\n",
              "      <td>0.25</td>\n",
              "      <td>0.00</td>\n",
              "      <td>0.0</td>\n",
              "      <td>0.5</td>\n",
              "      <td>0.50</td>\n",
              "      <td>0.00</td>\n",
              "      <td>1.00</td>\n",
              "    </tr>\n",
              "    <tr>\n",
              "      <th>3</th>\n",
              "      <td>n004ac94a87dc54b</td>\n",
              "      <td>era121</td>\n",
              "      <td>validation</td>\n",
              "      <td>0.75</td>\n",
              "      <td>1.00</td>\n",
              "      <td>1.00</td>\n",
              "      <td>0.50</td>\n",
              "      <td>0.0</td>\n",
              "      <td>0.00</td>\n",
              "      <td>0.0</td>\n",
              "      <td>0.50</td>\n",
              "      <td>0.75</td>\n",
              "      <td>1.0</td>\n",
              "      <td>0.75</td>\n",
              "      <td>0.0</td>\n",
              "      <td>0.50</td>\n",
              "      <td>0.00</td>\n",
              "      <td>0.50</td>\n",
              "      <td>0.75</td>\n",
              "      <td>0.50</td>\n",
              "      <td>0.75</td>\n",
              "      <td>0.25</td>\n",
              "      <td>0.75</td>\n",
              "      <td>0.25</td>\n",
              "      <td>0.75</td>\n",
              "      <td>0.25</td>\n",
              "      <td>0.75</td>\n",
              "      <td>1.0</td>\n",
              "      <td>0.50</td>\n",
              "      <td>0.50</td>\n",
              "      <td>0.75</td>\n",
              "      <td>0.50</td>\n",
              "      <td>1.00</td>\n",
              "      <td>0.50</td>\n",
              "      <td>0.25</td>\n",
              "      <td>0.75</td>\n",
              "      <td>0.25</td>\n",
              "      <td>0.75</td>\n",
              "      <td>0.25</td>\n",
              "      <td>0.75</td>\n",
              "      <td>...</td>\n",
              "      <td>0.00</td>\n",
              "      <td>0.0</td>\n",
              "      <td>0.00</td>\n",
              "      <td>0.0</td>\n",
              "      <td>0.00</td>\n",
              "      <td>0.00</td>\n",
              "      <td>0.00</td>\n",
              "      <td>0.00</td>\n",
              "      <td>0.25</td>\n",
              "      <td>0.00</td>\n",
              "      <td>0.25</td>\n",
              "      <td>0.00</td>\n",
              "      <td>0.00</td>\n",
              "      <td>0.25</td>\n",
              "      <td>0.00</td>\n",
              "      <td>0.00</td>\n",
              "      <td>0.00</td>\n",
              "      <td>0.00</td>\n",
              "      <td>0.75</td>\n",
              "      <td>0.00</td>\n",
              "      <td>0.00</td>\n",
              "      <td>0.25</td>\n",
              "      <td>0.25</td>\n",
              "      <td>0.00</td>\n",
              "      <td>0.00</td>\n",
              "      <td>0.0</td>\n",
              "      <td>0.00</td>\n",
              "      <td>0.00</td>\n",
              "      <td>0.00</td>\n",
              "      <td>0.00</td>\n",
              "      <td>0.00</td>\n",
              "      <td>0.00</td>\n",
              "      <td>0.00</td>\n",
              "      <td>0.25</td>\n",
              "      <td>0.00</td>\n",
              "      <td>0.0</td>\n",
              "      <td>0.0</td>\n",
              "      <td>0.25</td>\n",
              "      <td>0.25</td>\n",
              "      <td>0.50</td>\n",
              "    </tr>\n",
              "    <tr>\n",
              "      <th>4</th>\n",
              "      <td>n0052fe97ea0c05f</td>\n",
              "      <td>era121</td>\n",
              "      <td>validation</td>\n",
              "      <td>0.25</td>\n",
              "      <td>0.50</td>\n",
              "      <td>0.50</td>\n",
              "      <td>0.25</td>\n",
              "      <td>1.0</td>\n",
              "      <td>0.50</td>\n",
              "      <td>0.5</td>\n",
              "      <td>0.25</td>\n",
              "      <td>0.25</td>\n",
              "      <td>0.5</td>\n",
              "      <td>0.50</td>\n",
              "      <td>1.0</td>\n",
              "      <td>1.00</td>\n",
              "      <td>1.00</td>\n",
              "      <td>1.00</td>\n",
              "      <td>0.75</td>\n",
              "      <td>0.50</td>\n",
              "      <td>0.50</td>\n",
              "      <td>0.50</td>\n",
              "      <td>0.75</td>\n",
              "      <td>0.00</td>\n",
              "      <td>0.00</td>\n",
              "      <td>0.00</td>\n",
              "      <td>0.25</td>\n",
              "      <td>0.0</td>\n",
              "      <td>0.00</td>\n",
              "      <td>0.75</td>\n",
              "      <td>0.25</td>\n",
              "      <td>1.00</td>\n",
              "      <td>0.25</td>\n",
              "      <td>1.00</td>\n",
              "      <td>0.75</td>\n",
              "      <td>0.00</td>\n",
              "      <td>1.00</td>\n",
              "      <td>0.75</td>\n",
              "      <td>0.75</td>\n",
              "      <td>0.75</td>\n",
              "      <td>...</td>\n",
              "      <td>0.00</td>\n",
              "      <td>0.5</td>\n",
              "      <td>0.50</td>\n",
              "      <td>0.0</td>\n",
              "      <td>0.75</td>\n",
              "      <td>0.50</td>\n",
              "      <td>0.75</td>\n",
              "      <td>0.25</td>\n",
              "      <td>0.25</td>\n",
              "      <td>0.25</td>\n",
              "      <td>0.00</td>\n",
              "      <td>0.25</td>\n",
              "      <td>0.50</td>\n",
              "      <td>0.25</td>\n",
              "      <td>1.00</td>\n",
              "      <td>1.00</td>\n",
              "      <td>1.00</td>\n",
              "      <td>0.00</td>\n",
              "      <td>0.25</td>\n",
              "      <td>0.00</td>\n",
              "      <td>0.00</td>\n",
              "      <td>0.25</td>\n",
              "      <td>0.25</td>\n",
              "      <td>0.75</td>\n",
              "      <td>1.00</td>\n",
              "      <td>1.0</td>\n",
              "      <td>0.75</td>\n",
              "      <td>0.75</td>\n",
              "      <td>0.50</td>\n",
              "      <td>0.50</td>\n",
              "      <td>0.50</td>\n",
              "      <td>0.75</td>\n",
              "      <td>0.00</td>\n",
              "      <td>0.00</td>\n",
              "      <td>0.75</td>\n",
              "      <td>1.0</td>\n",
              "      <td>0.0</td>\n",
              "      <td>0.25</td>\n",
              "      <td>1.00</td>\n",
              "      <td>0.75</td>\n",
              "    </tr>\n",
              "  </tbody>\n",
              "</table>\n",
              "<p>5 rows × 314 columns</p>\n",
              "</div>"
            ],
            "text/plain": [
              "                 id     era  ... feature_wisdom46  target\n",
              "0  n0003aa52cab36c2  era121  ...             0.00    0.25\n",
              "1  n000920ed083903f  era121  ...             0.50    0.50\n",
              "2  n0038e640522c4a6  era121  ...             0.00    1.00\n",
              "3  n004ac94a87dc54b  era121  ...             0.25    0.50\n",
              "4  n0052fe97ea0c05f  era121  ...             1.00    0.75\n",
              "\n",
              "[5 rows x 314 columns]"
            ]
          },
          "metadata": {},
          "execution_count": 5
        }
      ]
    },
    {
      "cell_type": "code",
      "metadata": {
        "colab": {
          "base_uri": "https://localhost:8080/"
        },
        "id": "7y8F2NgN4400",
        "outputId": "93ef52f3-3acf-47dc-cc28-8293eeb6af08"
      },
      "source": [
        "# Number of observations in each dataset type\n",
        "tourney_df['data_type'].value_counts()"
      ],
      "execution_count": 6,
      "outputs": [
        {
          "output_type": "execute_result",
          "data": {
            "text/plain": [
              "test          1673853\n",
              "validation     137779\n",
              "live             5339\n",
              "Name: data_type, dtype: int64"
            ]
          },
          "metadata": {},
          "execution_count": 6
        }
      ]
    },
    {
      "cell_type": "markdown",
      "metadata": {
        "id": "vu9JcWlX5cnK"
      },
      "source": [
        "### Data Preprocessing\n",
        "Most of the data cleaning has been done by Numerai in order to anonymize and obfuscate the data to us. This is done purposefully because of the data sharing rights from the data vendors Numerai spends millions of dollars on (thank you Numerai!). \n",
        "\n",
        "Steps:\n",
        "* Extract features\n",
        "* Convert era from string to integers"
      ]
    },
    {
      "cell_type": "code",
      "metadata": {
        "colab": {
          "base_uri": "https://localhost:8080/"
        },
        "id": "p-0pxeCF5Cjd",
        "outputId": "8401f57d-bf79-45c4-df06-85883781aba2"
      },
      "source": [
        "# Extract features\n",
        "tourney_ids = tourney_df['id']\n",
        "features = [c for c in tourney_df if c.startswith('feature')]\n",
        "\n",
        "# The training data is also grouped into 120 different eras (1-120)\n",
        "train_df[\"erano\"] = train_df[\"era\"].str.slice(3).astype(int)\n",
        "\n",
        "valid_df = tourney_df[tourney_df['data_type']=='validation']\n",
        "valid_df[\"erano\"] = valid_df[\"era\"].str.slice(3).astype(int)\n",
        "\n",
        "# Extract eras\n",
        "eras = train_df[\"erano\"]\n",
        "target = \"target\"\n",
        "\n",
        "print(\"Training:\", train_df.shape)\n",
        "print(\"Validation:\", valid_df.shape)\n",
        "print(\"Tournament:\", tourney_df.shape)"
      ],
      "execution_count": 7,
      "outputs": [
        {
          "output_type": "stream",
          "name": "stdout",
          "text": [
            "Training: (501808, 315)\n",
            "Validation: (137779, 315)\n",
            "Tournament: (1816971, 314)\n"
          ]
        },
        {
          "output_type": "stream",
          "name": "stderr",
          "text": [
            "/usr/local/lib/python3.7/dist-packages/ipykernel_launcher.py:9: SettingWithCopyWarning: \n",
            "A value is trying to be set on a copy of a slice from a DataFrame.\n",
            "Try using .loc[row_indexer,col_indexer] = value instead\n",
            "\n",
            "See the caveats in the documentation: https://pandas.pydata.org/pandas-docs/stable/user_guide/indexing.html#returning-a-view-versus-a-copy\n",
            "  if __name__ == '__main__':\n"
          ]
        }
      ]
    },
    {
      "cell_type": "code",
      "metadata": {
        "colab": {
          "base_uri": "https://localhost:8080/"
        },
        "id": "_JE96P57dvwQ",
        "outputId": "1c670eb2-d1fb-42e0-a14e-81ca0177a68a"
      },
      "source": [
        "print(\"First five features:\")\n",
        "print(features[:5])\n",
        "print()\n",
        "print(\"Number of unique eras in training data: \", len(set(eras)))"
      ],
      "execution_count": 8,
      "outputs": [
        {
          "output_type": "stream",
          "name": "stdout",
          "text": [
            "First five features:\n",
            "['feature_intelligence1', 'feature_intelligence2', 'feature_intelligence3', 'feature_intelligence4', 'feature_intelligence5']\n",
            "\n",
            "Number of unique eras in training data:  120\n"
          ]
        }
      ]
    },
    {
      "cell_type": "markdown",
      "metadata": {
        "id": "Fw3cmBTK6BHY"
      },
      "source": [
        "### Split the training data into training/testing sets\n",
        "Things to think about:\n",
        "* Is it useful to use all of the features?\n",
        "* How should we think about the different eras in the data?\n",
        "* Do some features matter more in particular eras than in other eras?"
      ]
    },
    {
      "cell_type": "code",
      "metadata": {
        "colab": {
          "base_uri": "https://localhost:8080/"
        },
        "id": "ZGkWzEgR5pY-",
        "outputId": "ffed532e-9ded-4567-f705-5d9bd9bd6b63"
      },
      "source": [
        "from sklearn.model_selection import train_test_split\n",
        "\n",
        "X_train, X_test, y_train, y_test = train_test_split(train_df[features], train_df[target],\n",
        "                                                    test_size=0.25, random_state=0)\n",
        "\n",
        "print(\"X_train size: \", X_train.shape)\n",
        "print(\"X_test_size: \", X_test.shape)"
      ],
      "execution_count": 9,
      "outputs": [
        {
          "output_type": "stream",
          "name": "stdout",
          "text": [
            "X_train size:  (376356, 310)\n",
            "X_test_size:  (125452, 310)\n"
          ]
        }
      ]
    },
    {
      "cell_type": "markdown",
      "metadata": {
        "id": "R_UkZFcI6jLR"
      },
      "source": [
        "### Dimensionality Reduction Techniques\n",
        "The original dataset has 310 features so it might be useful to reduce the number of features. Here I will implement the following dimension reduction techniques:\n",
        "* PCA\n",
        "* K-Means Clustering"
      ]
    },
    {
      "cell_type": "markdown",
      "metadata": {
        "id": "uViYWuplkPp4"
      },
      "source": [
        "PCA\n",
        "* You can change the number of components or % variance retained"
      ]
    },
    {
      "cell_type": "code",
      "metadata": {
        "id": "phzAI9HofgVX",
        "colab": {
          "base_uri": "https://localhost:8080/"
        },
        "outputId": "63b0c8dd-6b58-479d-9e06-aec1b86382b8"
      },
      "source": [
        "from sklearn.decomposition import PCA\n",
        "\n",
        "# You can specify the number of components\n",
        "pca = PCA(n_components=120)\n",
        "pca_train = pca.fit_transform(X_train)\n",
        "explained_variance = pca.explained_variance_ratio_\n",
        "print(np.cumsum(explained_variance))"
      ],
      "execution_count": 10,
      "outputs": [
        {
          "output_type": "stream",
          "name": "stdout",
          "text": [
            "[0.10420083 0.18434788 0.23781185 0.27809144 0.31211651 0.34185984\n",
            " 0.36638192 0.38865699 0.40826849 0.42644541 0.44202931 0.45648403\n",
            " 0.46998241 0.48279143 0.49494177 0.50692192 0.51838483 0.5293772\n",
            " 0.54021484 0.55043026 0.56035963 0.57011853 0.57947186 0.58864781\n",
            " 0.59747686 0.60579155 0.61383015 0.62180926 0.6294822  0.6369286\n",
            " 0.64428767 0.65146668 0.65836098 0.66518295 0.67180242 0.67836877\n",
            " 0.68466644 0.69086353 0.69690065 0.70276687 0.70850262 0.71413115\n",
            " 0.71965471 0.72507904 0.73038159 0.73555206 0.74058999 0.74546826\n",
            " 0.75023816 0.75497613 0.7596351  0.76420083 0.76869342 0.77315534\n",
            " 0.77747269 0.78173191 0.78592465 0.79006857 0.79408329 0.79808812\n",
            " 0.80202668 0.80588438 0.80965372 0.81335564 0.81699492 0.82057578\n",
            " 0.82404156 0.82747084 0.83087083 0.83419201 0.83745961 0.84072442\n",
            " 0.84393032 0.84710122 0.85022976 0.85324735 0.85624415 0.85916367\n",
            " 0.86201914 0.86478882 0.86752555 0.87022047 0.87284895 0.87545629\n",
            " 0.87804583 0.88059173 0.88307621 0.88551705 0.88792876 0.89027566\n",
            " 0.8925843  0.89474463 0.89687706 0.89894848 0.90098368 0.90298\n",
            " 0.90494743 0.90688841 0.90879453 0.91065827 0.91242408 0.91417618\n",
            " 0.91591622 0.91762126 0.91927636 0.92090518 0.92247923 0.92403574\n",
            " 0.92555334 0.92703052 0.92848747 0.92990182 0.93129814 0.93267502\n",
            " 0.93405081 0.93537469 0.93666512 0.9379446  0.93917214 0.94039013]\n"
          ]
        }
      ]
    },
    {
      "cell_type": "code",
      "metadata": {
        "id": "MstCOZRqfgKP",
        "colab": {
          "base_uri": "https://localhost:8080/"
        },
        "outputId": "5900a448-fae3-4c4d-f340-59f10a8aad16"
      },
      "source": [
        "# You could also specify the % of variance you want to retain\n",
        "pca = PCA(n_components=0.90) #specify 90% retention \n",
        "pca_train = pca.fit_transform(X_train)\n",
        "\n",
        "# Explained variance of each component\n",
        "explained_variance = pca.explained_variance_ratio_\n",
        "print(\"Number of components with % variance: \", len(explained_variance))\n",
        "print(np.cumsum(explained_variance))"
      ],
      "execution_count": 11,
      "outputs": [
        {
          "output_type": "stream",
          "name": "stdout",
          "text": [
            "Number of components with % variance:  95\n",
            "[0.10420083 0.18434788 0.23781185 0.27809144 0.31211651 0.34185984\n",
            " 0.36638192 0.38865699 0.40826849 0.42644541 0.44202931 0.45648403\n",
            " 0.46998241 0.48279143 0.49494177 0.50692192 0.51838483 0.5293772\n",
            " 0.54021484 0.55043026 0.56035963 0.57011853 0.57947186 0.58864781\n",
            " 0.59747686 0.60579155 0.61383015 0.62180926 0.6294822  0.6369286\n",
            " 0.64428767 0.65146668 0.65836099 0.66518296 0.67180242 0.67836877\n",
            " 0.68466644 0.69086353 0.69690065 0.70276688 0.70850262 0.71413116\n",
            " 0.71965472 0.72507905 0.73038159 0.73555206 0.74059    0.74546827\n",
            " 0.75023817 0.75497615 0.75963511 0.76420085 0.76869344 0.77315537\n",
            " 0.77747272 0.78173194 0.7859247  0.79006862 0.79408334 0.79808818\n",
            " 0.80202674 0.80588445 0.80965381 0.81335573 0.81699503 0.82057589\n",
            " 0.8240417  0.82747103 0.83087104 0.83419225 0.83745992 0.84072477\n",
            " 0.84393068 0.84710162 0.85023017 0.85324781 0.8562447  0.85916427\n",
            " 0.86201979 0.86478959 0.86752645 0.87022146 0.87285012 0.87545754\n",
            " 0.87804736 0.88059364 0.88307843 0.88551967 0.8879315  0.89027869\n",
            " 0.89258786 0.89474929 0.89688249 0.89895507 0.90099071]\n"
          ]
        }
      ]
    },
    {
      "cell_type": "code",
      "metadata": {
        "colab": {
          "base_uri": "https://localhost:8080/"
        },
        "id": "wHEMSeWOnBd0",
        "outputId": "49edc3fd-02a8-46a7-d5ba-460ed3d1f6dd"
      },
      "source": [
        "print(\"Original X_train shape:\", X_train.shape)\n",
        "print(\"PCA Transformed X_train shape:\", pca_train.shape)"
      ],
      "execution_count": 12,
      "outputs": [
        {
          "output_type": "stream",
          "name": "stdout",
          "text": [
            "Original X_train shape: (376356, 310)\n",
            "PCA Transformed X_train shape: (376356, 95)\n"
          ]
        }
      ]
    },
    {
      "cell_type": "markdown",
      "metadata": {
        "id": "ickvZGnskL8O"
      },
      "source": [
        "K-Means Clustering\n",
        "* You can change the number of clusters"
      ]
    },
    {
      "cell_type": "code",
      "metadata": {
        "id": "DOQbsTxgkRMT"
      },
      "source": [
        "from sklearn.cluster import KMeans, MiniBatchKMeans\n",
        "\n",
        "# Reduce to 120 clusters\n",
        "kmeans120 = MiniBatchKMeans(n_clusters=120, random_state=6).fit(X_train)\n",
        "kmeans120_train = kmeans120.transform(X_train)"
      ],
      "execution_count": 13,
      "outputs": []
    },
    {
      "cell_type": "code",
      "metadata": {
        "colab": {
          "base_uri": "https://localhost:8080/"
        },
        "id": "ZJQyAY7km4AH",
        "outputId": "43a877d1-8d73-488b-8465-400ba01c11c4"
      },
      "source": [
        "print(\"Original X_train shape:\", X_train.shape)\n",
        "print(\"K-Means Clustered X_train shape:\", kmeans120_train.shape)"
      ],
      "execution_count": 14,
      "outputs": [
        {
          "output_type": "stream",
          "name": "stdout",
          "text": [
            "Original X_train shape: (376356, 310)\n",
            "K-Means Clustered X_train shape: (376356, 120)\n"
          ]
        }
      ]
    },
    {
      "cell_type": "markdown",
      "metadata": {
        "id": "95RQV4SC8WQB"
      },
      "source": [
        "### Bayesian Optimization for xgboost\n",
        "Documentation: https://github.com/fmfn/BayesianOptimization\n",
        "* I am going to use the PCA transformed training data but you can easily switch it to PCA or K-means clustering\n",
        "* set 'tree_method':'gpu_hist' to train on GPU for faster training"
      ]
    },
    {
      "cell_type": "code",
      "metadata": {
        "id": "caV5K2XLbIKD",
        "colab": {
          "base_uri": "https://localhost:8080/"
        },
        "outputId": "62e6462f-dad2-44af-f4c2-c2b047266543"
      },
      "source": [
        "# Download bayesian-optimization library\n",
        "! pip install bayesian-optimization"
      ],
      "execution_count": 15,
      "outputs": [
        {
          "output_type": "stream",
          "name": "stdout",
          "text": [
            "Collecting bayesian-optimization\n",
            "  Downloading bayesian-optimization-1.2.0.tar.gz (14 kB)\n",
            "Requirement already satisfied: numpy>=1.9.0 in /usr/local/lib/python3.7/dist-packages (from bayesian-optimization) (1.19.5)\n",
            "Requirement already satisfied: scipy>=0.14.0 in /usr/local/lib/python3.7/dist-packages (from bayesian-optimization) (1.4.1)\n",
            "Requirement already satisfied: scikit-learn>=0.18.0 in /usr/local/lib/python3.7/dist-packages (from bayesian-optimization) (0.22.2.post1)\n",
            "Requirement already satisfied: joblib>=0.11 in /usr/local/lib/python3.7/dist-packages (from scikit-learn>=0.18.0->bayesian-optimization) (1.0.1)\n",
            "Building wheels for collected packages: bayesian-optimization\n",
            "  Building wheel for bayesian-optimization (setup.py) ... \u001b[?25l\u001b[?25hdone\n",
            "  Created wheel for bayesian-optimization: filename=bayesian_optimization-1.2.0-py3-none-any.whl size=11685 sha256=d41aa970abdd2a7048774c627ee748bbbde5cc0c970303fc1b799b8af7d47d8e\n",
            "  Stored in directory: /root/.cache/pip/wheels/fd/9b/71/f127d694e02eb40bcf18c7ae9613b88a6be4470f57a8528c5b\n",
            "Successfully built bayesian-optimization\n",
            "Installing collected packages: bayesian-optimization\n",
            "Successfully installed bayesian-optimization-1.2.0\n"
          ]
        }
      ]
    },
    {
      "cell_type": "code",
      "metadata": {
        "id": "pGr3FR0f8In_"
      },
      "source": [
        "import xgboost\n",
        "from bayes_opt import BayesianOptimization\n",
        "\n",
        "# Convert pca transformed training data to DMatrix for XGBoost\n",
        "dtrain = xgboost.DMatrix(pca_train, y_train)\n",
        " \n",
        "def bo_tune_xgb(max_depth, gamma, learning_rate, subsample, colsample_bytree, min_child_weight, n_estimators, alpha, eta):\n",
        "    params = {'max_depth': int(max_depth),\n",
        "              'gamma': gamma,\n",
        "              'learning_rate': learning_rate,\n",
        "              'subsample': subsample,\n",
        "              'colsample_bytree': colsample_bytree,\n",
        "              'min_child_weight': min_child_weight,\n",
        "              'n_estimators': int(n_estimators),\n",
        "              'alpha': alpha,\n",
        "              'eta': eta,\n",
        "              'eval_metric': 'rmse',\n",
        "             # 'tree_method': 'gpu_hist' # If using GPU\n",
        "    }\n",
        "    #Cross validating with the specified parameters in 3 folds\n",
        "    cv_result = xgboost.cv(params, dtrain, nfold=3)\n",
        "    #Return the negative RMSE\n",
        "    return -1.0 * cv_result['test-rmse-mean'].iloc[-1]"
      ],
      "execution_count": 17,
      "outputs": []
    },
    {
      "cell_type": "markdown",
      "metadata": {
        "id": "hcLmno4v8sr-"
      },
      "source": [
        "#### n_iter \n",
        "* controls how many bayesian optimization steps to perform, more steps = more likely to find a good maximization\n",
        "\n",
        "#### init_points \n",
        "* controls how many steps of random exploration you want to perform to help diversify the exploration space\n",
        "\n",
        "#### acquisition functions\n",
        "* decides how to guide the optimization\n",
        "* acq: {'ucb', 'ei', 'poi'}"
      ]
    },
    {
      "cell_type": "code",
      "metadata": {
        "colab": {
          "base_uri": "https://localhost:8080/"
        },
        "id": "lMLIAiJp8mIY",
        "outputId": "4c78e199-5f2c-4e98-ce75-5898e05f6c2a"
      },
      "source": [
        "# Initial Bayesian Optimization Search\n",
        "xgb_bo = BayesianOptimization(bo_tune_xgb, {'max_depth': (4,12),\n",
        "                                             'gamma': (0.1, 1),\n",
        "                                             'subsample' : (0.5, 1),\n",
        "                                             'learning_rate' : (0.0001, 0.01),\n",
        "                                             'colsample_bytree': (0.7, 1),\n",
        "                                             'min_child_weight': (4, 10),\n",
        "                                             'n_estimators':(80, 240),\n",
        "                                             'alpha': (0.1, 1),\n",
        "                                             'eta': (0.1, 0.3)\n",
        "                                            })\n",
        "\n",
        "xgb_bo.maximize(n_iter=5, init_points=5, acq='ei')"
      ],
      "execution_count": 18,
      "outputs": [
        {
          "output_type": "stream",
          "name": "stdout",
          "text": [
            "|   iter    |  target   |   alpha   | colsam... |    eta    |   gamma   | learni... | max_depth | min_ch... | n_esti... | subsample |\n",
            "-------------------------------------------------------------------------------------------------------------------------------------\n",
            "| \u001b[0m 1       \u001b[0m | \u001b[0m-0.2235  \u001b[0m | \u001b[0m 0.6713  \u001b[0m | \u001b[0m 0.9552  \u001b[0m | \u001b[0m 0.1488  \u001b[0m | \u001b[0m 0.389   \u001b[0m | \u001b[0m 0.001945\u001b[0m | \u001b[0m 4.895   \u001b[0m | \u001b[0m 4.141   \u001b[0m | \u001b[0m 205.5   \u001b[0m | \u001b[0m 0.7555  \u001b[0m |\n",
            "| \u001b[95m 2       \u001b[0m | \u001b[95m-0.2235  \u001b[0m | \u001b[95m 0.5646  \u001b[0m | \u001b[95m 0.8184  \u001b[0m | \u001b[95m 0.1965  \u001b[0m | \u001b[95m 0.1735  \u001b[0m | \u001b[95m 0.005396\u001b[0m | \u001b[95m 9.82    \u001b[0m | \u001b[95m 9.953   \u001b[0m | \u001b[95m 84.7    \u001b[0m | \u001b[95m 0.5575  \u001b[0m |\n",
            "| \u001b[0m 3       \u001b[0m | \u001b[0m-0.2235  \u001b[0m | \u001b[0m 0.3851  \u001b[0m | \u001b[0m 0.7836  \u001b[0m | \u001b[0m 0.2771  \u001b[0m | \u001b[0m 0.3727  \u001b[0m | \u001b[0m 0.004567\u001b[0m | \u001b[0m 11.13   \u001b[0m | \u001b[0m 5.588   \u001b[0m | \u001b[0m 228.0   \u001b[0m | \u001b[0m 0.5664  \u001b[0m |\n",
            "| \u001b[95m 4       \u001b[0m | \u001b[95m-0.2235  \u001b[0m | \u001b[95m 0.2464  \u001b[0m | \u001b[95m 0.8044  \u001b[0m | \u001b[95m 0.233   \u001b[0m | \u001b[95m 0.2049  \u001b[0m | \u001b[95m 0.009054\u001b[0m | \u001b[95m 6.255   \u001b[0m | \u001b[95m 8.016   \u001b[0m | \u001b[95m 206.9   \u001b[0m | \u001b[95m 0.7401  \u001b[0m |\n",
            "| \u001b[0m 5       \u001b[0m | \u001b[0m-0.2235  \u001b[0m | \u001b[0m 0.3867  \u001b[0m | \u001b[0m 0.787   \u001b[0m | \u001b[0m 0.2056  \u001b[0m | \u001b[0m 0.7921  \u001b[0m | \u001b[0m 0.005719\u001b[0m | \u001b[0m 4.485   \u001b[0m | \u001b[0m 6.337   \u001b[0m | \u001b[0m 185.2   \u001b[0m | \u001b[0m 0.9031  \u001b[0m |\n",
            "| \u001b[0m 6       \u001b[0m | \u001b[0m-0.2235  \u001b[0m | \u001b[0m 0.3262  \u001b[0m | \u001b[0m 0.9556  \u001b[0m | \u001b[0m 0.2585  \u001b[0m | \u001b[0m 0.8176  \u001b[0m | \u001b[0m 0.001142\u001b[0m | \u001b[0m 4.834   \u001b[0m | \u001b[0m 4.276   \u001b[0m | \u001b[0m 80.11   \u001b[0m | \u001b[0m 0.9786  \u001b[0m |\n",
            "| \u001b[0m 7       \u001b[0m | \u001b[0m-0.2235  \u001b[0m | \u001b[0m 0.7872  \u001b[0m | \u001b[0m 0.9579  \u001b[0m | \u001b[0m 0.2623  \u001b[0m | \u001b[0m 0.6081  \u001b[0m | \u001b[0m 0.001248\u001b[0m | \u001b[0m 11.34   \u001b[0m | \u001b[0m 9.15    \u001b[0m | \u001b[0m 80.12   \u001b[0m | \u001b[0m 0.8183  \u001b[0m |\n",
            "| \u001b[0m 8       \u001b[0m | \u001b[0m-0.2235  \u001b[0m | \u001b[0m 0.622   \u001b[0m | \u001b[0m 0.8333  \u001b[0m | \u001b[0m 0.2645  \u001b[0m | \u001b[0m 0.8129  \u001b[0m | \u001b[0m 0.001613\u001b[0m | \u001b[0m 11.1    \u001b[0m | \u001b[0m 9.936   \u001b[0m | \u001b[0m 239.8   \u001b[0m | \u001b[0m 0.7967  \u001b[0m |\n",
            "| \u001b[0m 9       \u001b[0m | \u001b[0m-0.2235  \u001b[0m | \u001b[0m 0.4208  \u001b[0m | \u001b[0m 0.9794  \u001b[0m | \u001b[0m 0.1822  \u001b[0m | \u001b[0m 0.5283  \u001b[0m | \u001b[0m 0.006863\u001b[0m | \u001b[0m 4.074   \u001b[0m | \u001b[0m 4.098   \u001b[0m | \u001b[0m 80.07   \u001b[0m | \u001b[0m 0.5271  \u001b[0m |\n",
            "| \u001b[0m 10      \u001b[0m | \u001b[0m-0.2235  \u001b[0m | \u001b[0m 0.6078  \u001b[0m | \u001b[0m 0.8159  \u001b[0m | \u001b[0m 0.1911  \u001b[0m | \u001b[0m 0.341   \u001b[0m | \u001b[0m 0.008008\u001b[0m | \u001b[0m 11.81   \u001b[0m | \u001b[0m 9.077   \u001b[0m | \u001b[0m 239.9   \u001b[0m | \u001b[0m 0.6572  \u001b[0m |\n",
            "=====================================================================================================================================\n"
          ]
        }
      ]
    },
    {
      "cell_type": "markdown",
      "metadata": {
        "id": "jPAb6BLmuRGk"
      },
      "source": [
        "Just for this notebook I kept the number of iterations and initiation points relatively small so it doesn't a long time to run."
      ]
    },
    {
      "cell_type": "code",
      "metadata": {
        "colab": {
          "base_uri": "https://localhost:8080/"
        },
        "id": "LK-8zuhP8_QN",
        "outputId": "39c66355-5255-4069-d960-3bddd800b101"
      },
      "source": [
        "# Obtain best parameters from bayesian optimization search\n",
        "params = xgb_bo.max['params']\n",
        "\n",
        "#Converting the max_depth and n_estimator values from float to int\n",
        "params['max_depth']= int(round(params['max_depth']))\n",
        "params['n_estimators']= int(round(params['n_estimators']))\n",
        "params"
      ],
      "execution_count": 19,
      "outputs": [
        {
          "output_type": "execute_result",
          "data": {
            "text/plain": [
              "{'alpha': 0.24642989881163418,\n",
              " 'colsample_bytree': 0.8044273945251768,\n",
              " 'eta': 0.23298800735571254,\n",
              " 'gamma': 0.20489379828423035,\n",
              " 'learning_rate': 0.009054435155224298,\n",
              " 'max_depth': 6,\n",
              " 'min_child_weight': 8.01631989179294,\n",
              " 'n_estimators': 207,\n",
              " 'subsample': 0.7400815874542308}"
            ]
          },
          "metadata": {},
          "execution_count": 19
        }
      ]
    },
    {
      "cell_type": "code",
      "metadata": {
        "colab": {
          "base_uri": "https://localhost:8080/"
        },
        "id": "_eXTChi_Cve4",
        "outputId": "9b8db47b-f758-4a81-f172-036fc3fc8eb1"
      },
      "source": [
        "#Re-train XGBRegressor with best params found from bayesian optimization\n",
        "pca_X_train = pca.transform(X_train)\n",
        "xgb_bestparams = xgboost.XGBRegressor(**params).fit(pca_X_train, y_train)"
      ],
      "execution_count": 21,
      "outputs": [
        {
          "output_type": "stream",
          "name": "stdout",
          "text": [
            "[15:59:10] WARNING: /workspace/src/objective/regression_obj.cu:152: reg:linear is now deprecated in favor of reg:squarederror.\n"
          ]
        }
      ]
    },
    {
      "cell_type": "markdown",
      "metadata": {
        "id": "rPxZGXWTq2MJ"
      },
      "source": [
        "### Model Evaluation"
      ]
    },
    {
      "cell_type": "code",
      "metadata": {
        "id": "2_QBkGoOq5O8"
      },
      "source": [
        "# The models should be scored based on the rank-correlation (spearman) with the target\n",
        "def numerai_score(y_true, y_pred):\n",
        "    rank_pred = y_pred.groupby(eras).apply(lambda x: x.rank(pct=True, method=\"first\"))\n",
        "    return np.corrcoef(y_true, rank_pred)[0,1]\n",
        "\n",
        "# It can also be convenient while working to evaluate based on the regular (pearson) correlation\n",
        "def correlation_score(y_true, y_pred):\n",
        "    return np.corrcoef(y_true, y_pred)[0,1]\n",
        "\n",
        "def score(df, prediction):\n",
        "    '''Takes df and calculates spearm correlation from pre-defined cols'''\n",
        "    # method=\"first\" breaks ties based on order in array\n",
        "    return np.corrcoef(\n",
        "        df['target'],\n",
        "        df[prediction].rank(pct=True, method=\"first\")\n",
        "    )[0,1]\n",
        "\n",
        "def run_analytics(era_scores):\n",
        "    print(f\"Mean Correlation: {era_scores.mean():.4f}\")\n",
        "    print(f\"Median Correlation: {era_scores.median():.4f}\")\n",
        "    print(f\"Standard Deviation: {era_scores.std():.4f}\")\n",
        "    print()\n",
        "    print(f\"Mean Pseudo-Sharpe: {era_scores.mean()/era_scores.std():.4f}\")\n",
        "    print(f\"Median Pseudo-Sharpe: {era_scores.median()/era_scores.std():.4f}\")\n",
        "    print(f\"Max Drawdown: {np.min(era_scores):.4f}\")\n",
        "    print()\n",
        "    print(f'Hit Rate (% positive eras): {era_scores.apply(lambda x: np.sign(x)).value_counts()[1]/len(era_scores):.2%}')\n",
        "\n",
        "    era_scores.rolling(10).mean().plot(kind='line', title='Rolling Per Era Correlation Mean', figsize=(15,4))\n",
        "    plt.axhline(y=0.0, color=\"r\", linestyle=\"--\"); plt.show()\n",
        "\n",
        "    era_scores.cumsum().plot(title='Cumulative Sum of Era Scores', figsize=(15,4))\n",
        "    plt.axhline(y=0.0, color=\"r\", linestyle=\"--\"); plt.show()"
      ],
      "execution_count": 30,
      "outputs": []
    },
    {
      "cell_type": "code",
      "metadata": {
        "colab": {
          "base_uri": "https://localhost:8080/"
        },
        "id": "xN1KiBPqFQp2",
        "outputId": "af29961c-aa1a-478d-9060-561d9d983d66"
      },
      "source": [
        "train_preds = xgb_bestparams.predict(pca_X_train)\n",
        "print('Training Scores')\n",
        "print('Numerai Score: ', numerai_score(y_train, pd.Series(train_preds)))\n",
        "print('Correlation Score: ', correlation_score(y_train, pd.Series(train_preds)))\n",
        "print()\n",
        "\n",
        "pca_X_test = pca.transform(X_test) # PCA transform X_test\n",
        "test_preds = xgb_bestparams.predict(pca_X_test)\n",
        "print('Testing Scores')\n",
        "print('Numerai Score: ', numerai_score(y_test, pd.Series(test_preds)))\n",
        "print('Correlation Score: ', correlation_score(y_test, pd.Series(test_preds)))\n",
        "print()"
      ],
      "execution_count": 32,
      "outputs": [
        {
          "output_type": "stream",
          "name": "stdout",
          "text": [
            "Training Scores\n",
            "Numerai Score:  0.18332075551160004\n",
            "Correlation Score:  0.21112845463906182\n",
            "\n",
            "Testing Scores\n",
            "Numerai Score:  0.034179076833994036\n",
            "Correlation Score:  0.03373850329291605\n",
            "\n"
          ]
        }
      ]
    },
    {
      "cell_type": "code",
      "metadata": {
        "colab": {
          "base_uri": "https://localhost:8080/",
          "height": 1000
        },
        "id": "3dqBncFMma-N",
        "outputId": "d2f5e660-625b-4214-805d-9d5147e89759"
      },
      "source": [
        "# Check distribution of predictions\n",
        "\n",
        "pca_validation = pca.transform(valid_df[features]) # PCA transform validation data\n",
        "valid_df['prediction'] = xgb_bestparams.predict(pca_validation)\n",
        "print('Validation Scores')\n",
        "print('Correlation Score: ', correlation_score(valid_df[target], valid_df['prediction']))\n",
        "\n",
        "print(valid_df['prediction'].describe().round(3))\n",
        "print()\n",
        "sns.histplot(valid_df['prediction'], bins=120)\n",
        "plt.show()\n",
        "print()\n",
        "\n",
        "print(\"Validation Correlation Score:\", correlation_score(valid_df['target'], valid_df['prediction']))\n",
        "print()\n",
        "mean_valid_era_scores = valid_df.groupby(valid_df['erano']).apply(score, prediction='prediction')\n",
        "run_analytics(mean_valid_era_scores)"
      ],
      "execution_count": 35,
      "outputs": [
        {
          "output_type": "stream",
          "name": "stderr",
          "text": [
            "/usr/local/lib/python3.7/dist-packages/ipykernel_launcher.py:4: SettingWithCopyWarning: \n",
            "A value is trying to be set on a copy of a slice from a DataFrame.\n",
            "Try using .loc[row_indexer,col_indexer] = value instead\n",
            "\n",
            "See the caveats in the documentation: https://pandas.pydata.org/pandas-docs/stable/user_guide/indexing.html#returning-a-view-versus-a-copy\n",
            "  after removing the cwd from sys.path.\n"
          ]
        },
        {
          "output_type": "stream",
          "name": "stdout",
          "text": [
            "Validation Scores\n",
            "Correlation Score:  0.010507450179763917\n",
            "count    137779.000\n",
            "mean          0.500\n",
            "std           0.004\n",
            "min           0.457\n",
            "25%           0.497\n",
            "50%           0.500\n",
            "75%           0.503\n",
            "max           0.541\n",
            "Name: prediction, dtype: float64\n",
            "\n"
          ]
        },
        {
          "output_type": "display_data",
          "data": {
            "image/png": "[encoded data removed]",
            "text/plain": [
              "<Figure size 432x288 with 1 Axes>"
            ]
          },
          "metadata": {}
        },
        {
          "output_type": "stream",
          "name": "stdout",
          "text": [
            "\n",
            "Validation Correlation Score: 0.010507450179763917\n",
            "\n",
            "Mean Correlation: 0.0108\n",
            "Median Correlation: 0.0120\n",
            "Standard Deviation: 0.0302\n",
            "\n",
            "Mean Pseudo-Sharpe: 0.3591\n",
            "Median Pseudo-Sharpe: 0.3984\n",
            "Max Drawdown: -0.0511\n",
            "\n",
            "Hit Rate (% positive eras): 67.86%\n"
          ]
        },
        {
          "output_type": "display_data",
          "data": {
            "image/png": "[encoded data removed]",
            "text/plain": [
              "<Figure size 1080x288 with 1 Axes>"
            ]
          },
          "metadata": {}
        },
        {
          "output_type": "display_data",
          "data": {
            "image/png": "[encoded data removed]",
            "text/plain": [
              "<Figure size 1080x288 with 1 Axes>"
            ]
          },
          "metadata": {}
        }
      ]
    },
    {
      "cell_type": "markdown",
      "metadata": {
        "id": "3RXO8SeqpcdW"
      },
      "source": [
        "The model clearly overfits the training data because the numerai and correlation scores of the testing and validation sets drop off significantly from the training set scores. This means that the model will most likely not generalize well to the live tournament data. This model might perform well in a couple of rounds, but over time I predict it will generally underperform. \n",
        "\n",
        "Personally, the best models I have made that are performing well on the live tournament typically have validation scores between 0.03-0.05 and slightly overfit the training data. "
      ]
    },
    {
      "cell_type": "markdown",
      "metadata": {
        "id": "zD0bYsH5q1O5"
      },
      "source": [
        "### Predicting the Live Tournament Data\n",
        "* Recall we read in the tournament data at the beginning of the notebook under tourney_df\n",
        "* Make sure the format is correct (id, prediction)"
      ]
    },
    {
      "cell_type": "code",
      "metadata": {
        "id": "UHyp159OFWF0",
        "colab": {
          "base_uri": "https://localhost:8080/"
        },
        "outputId": "2d5a6337-6baa-4d19-bf71-f41ff4de3940"
      },
      "source": [
        "# Apply autoencoder for dimensionality reduction to the tournament data\n",
        "pca_tourney = pca.transform(tourney_df[features])\n",
        "\n",
        "# Use our best xgboost model from bayesian optimization to predict autoencoded tournament data\n",
        "# Avoid Colab RAM issues by splitting tourney data into two pieces (Usually there are about ~1.5m tournament observations to predict)\n",
        "tourney_preds_1 = xgb_bestparams.predict(pca_tourney[:1000000])\n",
        "tourney_preds_2 = xgb_bestparams.predict(pca_tourney[1000000:])\n",
        "tourney_preds = np.concatenate((tourney_preds_1, tourney_preds_2))\n",
        "\n",
        "df = pd.DataFrame()\n",
        "df['id'] = tourney_ids\n",
        "df['prediction'] = tourney_preds\n",
        "print(\"Current round: \", current_round)\n",
        "df.info()"
      ],
      "execution_count": 36,
      "outputs": [
        {
          "output_type": "stream",
          "name": "stdout",
          "text": [
            "Current round:  282\n",
            "<class 'pandas.core.frame.DataFrame'>\n",
            "RangeIndex: 1816971 entries, 0 to 1816970\n",
            "Data columns (total 2 columns):\n",
            " #   Column      Dtype  \n",
            "---  ------      -----  \n",
            " 0   id          object \n",
            " 1   prediction  float32\n",
            "dtypes: float32(1), object(1)\n",
            "memory usage: 20.8+ MB\n"
          ]
        }
      ]
    },
    {
      "cell_type": "code",
      "metadata": {
        "colab": {
          "base_uri": "https://localhost:8080/",
          "height": 555
        },
        "id": "_c2KqvGCGptL",
        "outputId": "8e7f5161-fcd7-4df3-e67c-af9c7ad3025a"
      },
      "source": [
        "print(df['prediction'].describe().round(3))\n",
        "print()\n",
        "sns.displot(df['prediction'], bins=120)\n",
        "plt.title('Tournament Prediction Distribution')\n",
        "plt.show()"
      ],
      "execution_count": 41,
      "outputs": [
        {
          "output_type": "stream",
          "name": "stdout",
          "text": [
            "count    1816971.000\n",
            "mean           0.500\n",
            "std            0.004\n",
            "min            0.453\n",
            "25%            0.497\n",
            "50%            0.500\n",
            "75%            0.503\n",
            "max            0.547\n",
            "Name: prediction, dtype: float64\n",
            "\n"
          ]
        },
        {
          "output_type": "display_data",
          "data": {
            "image/png": "[encoded data removed]",
            "text/plain": [
              "<Figure size 360x360 with 1 Axes>"
            ]
          },
          "metadata": {}
        }
      ]
    },
    {
      "cell_type": "code",
      "metadata": {
        "id": "2SiWGuvw5xWx"
      },
      "source": [
        "# Save as csv file you can upload on the numerai website\n",
        "df.to_csv(f'round{current_round}_pca_xgb_bayesopt_predictions.csv', index=False)"
      ],
      "execution_count": 28,
      "outputs": []
    },
    {
      "cell_type": "code",
      "metadata": {
        "id": "reEpcGC5Ui37"
      },
      "source": [
        "# Alternatively, you can upload the csv directly to Numerai if you don't feel like locally downloading the prediction csv and manually uploading it yourself\n",
        "# I like using this method because I can submit predictions directly from my phone if I am away from the computer on the weekends\n",
        "\n",
        "# import numerapi\n",
        "# napi = numerapi.NumerAPI(\"public_id\", \"secret_key\")\n",
        "\n",
        "# # upload predictions\n",
        "# napi.upload_predictions(\"predictions.csv\", model_id=\"model_id\")"
      ],
      "execution_count": 29,
      "outputs": []
    },
    {
      "cell_type": "markdown",
      "metadata": {
        "id": "_KgdgFVGrtC_"
      },
      "source": [
        "### Documentation and References\n",
        "\n",
        "Numerapi: https://github.com/numerai/numerapi\n",
        "\n",
        "Numerai Examples: https://github.com/numerai/example-scripts\n",
        "\n",
        "Bayesian Optimization: https://github.com/fmfn/BayesianOptimization\n",
        "\n",
        "XGBoost: https://github.com/dmlc/xgboost/tree/master/demo/guide-python"
      ]
    }
  ]
}